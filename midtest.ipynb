{
 "cells": [
  {
   "cell_type": "code",
   "execution_count": 1,
   "metadata": {
    "collapsed": true
   },
   "outputs": [],
   "source": [
    "demofolder = '../../mid/mid-demo/'\n",
    "spikefile = '11101_1.isk'\n",
    "moviefile = 'walk1_ieee_128x128x16384.raw'"
   ]
  },
  {
   "cell_type": "code",
   "execution_count": 2,
   "metadata": {
    "collapsed": false
   },
   "outputs": [
    {
     "name": "stdout",
     "output_type": "stream",
     "text": [
      "Can't read this line as an int.\n",
      "Can't read this line as an int.\n",
      "16384\n",
      "20910\n"
     ]
    }
   ],
   "source": [
    "with open(demofolder+spikefile, 'r') as f:\n",
    "    nframes = 0\n",
    "    nspikes = 0\n",
    "    for line in f:\n",
    "        nframes += 1\n",
    "        try:\n",
    "            nspikes += int(line.rstrip())\n",
    "        except ValueError:\n",
    "            print(\"Can't read this line as an int. Guessing zero.\")\n",
    "print(nframes)\n",
    "print(nspikes)"
   ]
  },
  {
   "cell_type": "code",
   "execution_count": 4,
   "metadata": {
    "collapsed": false
   },
   "outputs": [
    {
     "name": "stdout",
     "output_type": "stream",
     "text": [
      "<class '_io.BufferedReader'>\n",
      "123532465\n",
      "604940\n",
      "4893040\n",
      "16025108\n",
      "82979045\n",
      "31964868\n",
      "894\n",
      "3306\n",
      "48\n",
      "8431742\n",
      "268435456\n",
      "10\n"
     ]
    }
   ],
   "source": [
    "with open(demofolder+moviefile,'rb') as f:\n",
    "    print(type(f))\n",
    "    count = 0\n",
    "    bigcount = 0\n",
    "    for thing in f:\n",
    "        print(len(thing))\n",
    "        count += 1\n",
    "        bigcount += len(thing)\n",
    "print(bigcount)\n",
    "print(count)"
   ]
  },
  {
   "cell_type": "code",
   "execution_count": 6,
   "metadata": {
    "collapsed": false
   },
   "outputs": [
    {
     "name": "stdout",
     "output_type": "stream",
     "text": [
      "57\n"
     ]
    }
   ],
   "source": [
    "print(thing[1])"
   ]
  },
  {
   "cell_type": "code",
   "execution_count": 1,
   "metadata": {
    "collapsed": false
   },
   "outputs": [],
   "source": [
    "import matplotlib.pyplot as plt\n",
    "import numpy as np\n",
    "plt.ioff()"
   ]
  },
  {
   "cell_type": "code",
   "execution_count": 26,
   "metadata": {
    "collapsed": false
   },
   "outputs": [
    {
     "data": {
      "text/plain": [
       "True"
      ]
     },
     "execution_count": 26,
     "metadata": {},
     "output_type": "execute_result"
    }
   ],
   "source": [
    "(128*128*16384) == bigcount"
   ]
  },
  {
   "cell_type": "code",
   "execution_count": 47,
   "metadata": {
    "collapsed": false
   },
   "outputs": [
    {
     "data": {
      "text/plain": [
       "<matplotlib.image.AxesImage at 0x2094e501710>"
      ]
     },
     "execution_count": 47,
     "metadata": {},
     "output_type": "execute_result"
    }
   ],
   "source": [
    "with open(demofolder+moviefile,'rb') as f:\n",
    "    frame = f.read(128*128)\n",
    "flframe = np.zeros(len(frame))\n",
    "for pix in range(len(frame)):\n",
    "    flframe[pix] = float(frame[pix])\n",
    "plt.imshow(flframe.reshape((128,128)),cmap='gray')"
   ]
  },
  {
   "cell_type": "code",
   "execution_count": null,
   "metadata": {
    "collapsed": false
   },
   "outputs": [],
   "source": [
    "with open(demofolder+moviefile,'rb') as f:\n",
    "    while True:\n",
    "        frame = f.read(128*128)\n",
    "        if not frame:\n",
    "            break\n",
    "        flframe = np.zeros(len(frame))\n",
    "        for pix in range(len(frame)):\n",
    "            flframe[pix] = float(frame[pix])\n",
    "        plt.imshow(flframe.reshape((128,128)),cmap='gray')\n",
    "        plt.show()"
   ]
  },
  {
   "cell_type": "code",
   "execution_count": 12,
   "metadata": {
    "collapsed": true
   },
   "outputs": [],
   "source": [
    "plt.show()"
   ]
  },
  {
   "cell_type": "code",
   "execution_count": 18,
   "metadata": {
    "collapsed": true
   },
   "outputs": [],
   "source": [
    "def downsample_frame(frame, factor):\n",
    "    \"\"\"Downsample by blocking the image. Only works for integer downsampling rates.\"\"\"\n",
    "    if int(factor) != factor:\n",
    "        raise ValueError(\"Downsampling rate must be an integer.\")\n",
    "    winit, hinit = frame.shape\n",
    "    wf=int(winit/factor)\n",
    "    hf=int(hinit/factor)\n",
    "    out = np.zeros((wf,hf))\n",
    "    for x in range(wf):\n",
    "        for y in range(hf):\n",
    "            out[x,y] = np.mean(frame[x*factor:(x+1)*factor,y*factor:(y+1)*factor])\n",
    "    return out"
   ]
  },
  {
   "cell_type": "code",
   "execution_count": 19,
   "metadata": {
    "collapsed": true
   },
   "outputs": [],
   "source": [
    "class MovieHandler:\n",
    "    def __init__(self, moviefile=None, spikefile=None, framesinstim=3, downfactor = 4):\n",
    "        self.framesinstim = framesinstim\n",
    "        demofolder = '../../mid/mid-demo/'\n",
    "        self.downfactor = downfactor\n",
    "        if moviefile is None:\n",
    "            moviefile = demofolder +'walk1_ieee_128x128x16384.raw'\n",
    "        if spikefile is None:\n",
    "            spikefile = demofolder +'11101_1.isk'\n",
    "        self.load_movie(moviefile)  \n",
    "        self.load_spikes(spikefile)\n",
    "        if len(self.spiketrain) != len(self.movie):\n",
    "            print('Warning. Spike train length '+str(len(self.spiketrain))+ ' is not equal to movie length '+str(len(self.movie))+'.')        \n",
    "        \n",
    "    def get_nstim(self):\n",
    "        return len(self.spiketrain) - (self.framesinstim-1)\n",
    "    \n",
    "    def load_spikes(self, file):\n",
    "        spiketrain = []\n",
    "        with open(file, 'r') as f:\n",
    "            for line in f:\n",
    "                try:\n",
    "                    spiketrain.append(int(line.rstrip()))\n",
    "                except ValueError:\n",
    "                    print(\"Can't read this line of spike file as an int. Guessing zero.\")\n",
    "                    spiketrain.append(0)\n",
    "        self.spiketrain = spiketrain\n",
    "    \n",
    "    def load_movie(self, file, frameshape = (128,128)):\n",
    "        framesize = np.prod(frameshape)\n",
    "        self.movie = []\n",
    "        with open(file,'rb') as f:\n",
    "            while True:\n",
    "                frame = f.read(framesize)\n",
    "                if not frame:\n",
    "                    break\n",
    "                flframe = np.zeros(len(frame))\n",
    "                for pix in range(len(frame)):\n",
    "                    flframe[pix] = float(frame[pix])\n",
    "                flframe = downsample_frame(flframe.reshape(frameshape),self.downfactor)\n",
    "                self.movie.append(flframe.flatten())     \n",
    "        self.frameshape = tuple([int(length/self.downfactor) for length in frameshape])\n",
    "\n",
    "    def play(self, rate=30):\n",
    "        try:\n",
    "            self.movie\n",
    "        except NameError:\n",
    "            print(\"No movie loaded.\")\n",
    "            return\n",
    "        img = None\n",
    "        for frame in self.movie:\n",
    "            fr = frame.reshape(self.frameshape)\n",
    "            if img is None:\n",
    "                img = plt.imshow(fr,cmap='gray')\n",
    "            else:\n",
    "                img.set_data(fr)\n",
    "            plt.pause(1./rate)\n",
    "            plt.draw()\n",
    "            \n",
    "    def generator(self):\n",
    "        lags = self.framesinstim\n",
    "        try: \n",
    "            for t in range(len(self.spiketrain)):\n",
    "                if t >= lags-1:\n",
    "                    stim = np.zeros((lags,np.prod(self.frameshape)))\n",
    "                    for l in range(lags):\n",
    "                         stim[l,:] = self.movie[t-l].flatten()\n",
    "                    yield stim.flatten(), self.spiketrain[t]\n",
    "        #try:\n",
    "        #    for frame, sp in zip(self.movie, self.spiketrain):\n",
    "        #            yield frame.flatten(), sp\n",
    "        except NameError:\n",
    "            print(\"Looks like you haven't loaded a movie and spiketrain.\")\n",
    "            raise        \n",
    "            \n",
    "    def show_strf(self, strf):\n",
    "        images = strf.reshape((self.framesinstim,)+self.frameshape)\n",
    "        plt.figure()\n",
    "        sqrtsubplots = int(np.ceil((np.sqrt(self.framesinstim))))\n",
    "        for l in range(self.framesinstim):\n",
    "            plt.subplot(sqrtsubplots, sqrtsubplots, l+1)\n",
    "            plt.imshow(images[l], cmap='gray', interpolation='nearest')\n",
    "            plt.colorbar()"
   ]
  },
  {
   "cell_type": "code",
   "execution_count": 20,
   "metadata": {
    "collapsed": false
   },
   "outputs": [
    {
     "name": "stdout",
     "output_type": "stream",
     "text": [
      "Can't read this line of spike file as an int. Guessing zero.\n",
      "Can't read this line of spike file as an int. Guessing zero.\n"
     ]
    }
   ],
   "source": [
    "mh = MovieHandler()"
   ]
  },
  {
   "cell_type": "code",
   "execution_count": 9,
   "metadata": {
    "collapsed": false
   },
   "outputs": [
    {
     "name": "stderr",
     "output_type": "stream",
     "text": [
      "C:\\Anaconda3\\lib\\site-packages\\matplotlib\\backend_bases.py:2435: MatplotlibDeprecationWarning: Using default event loop until function specific to this GUI is implemented\n",
      "  warnings.warn(str, mplDeprecation)\n"
     ]
    },
    {
     "ename": "KeyboardInterrupt",
     "evalue": "",
     "output_type": "error",
     "traceback": [
      "\u001b[1;31m---------------------------------------------------------------------------\u001b[0m",
      "\u001b[1;31mKeyboardInterrupt\u001b[0m                         Traceback (most recent call last)",
      "\u001b[1;32m<ipython-input-9-23022e18cb1d>\u001b[0m in \u001b[0;36m<module>\u001b[1;34m()\u001b[0m\n\u001b[1;32m----> 1\u001b[1;33m \u001b[0mmh\u001b[0m\u001b[1;33m.\u001b[0m\u001b[0mplay\u001b[0m\u001b[1;33m(\u001b[0m\u001b[1;33m)\u001b[0m\u001b[1;33m\u001b[0m\u001b[0m\n\u001b[0m",
      "\u001b[1;32m<ipython-input-7-f0234bf74966>\u001b[0m in \u001b[0;36mplay\u001b[1;34m(self, rate)\u001b[0m\n\u001b[0;32m     50\u001b[0m             \u001b[1;32melse\u001b[0m\u001b[1;33m:\u001b[0m\u001b[1;33m\u001b[0m\u001b[0m\n\u001b[0;32m     51\u001b[0m                 \u001b[0mimg\u001b[0m\u001b[1;33m.\u001b[0m\u001b[0mset_data\u001b[0m\u001b[1;33m(\u001b[0m\u001b[0mfr\u001b[0m\u001b[1;33m)\u001b[0m\u001b[1;33m\u001b[0m\u001b[0m\n\u001b[1;32m---> 52\u001b[1;33m             \u001b[0mplt\u001b[0m\u001b[1;33m.\u001b[0m\u001b[0mpause\u001b[0m\u001b[1;33m(\u001b[0m\u001b[1;36m1.\u001b[0m\u001b[1;33m/\u001b[0m\u001b[0mrate\u001b[0m\u001b[1;33m)\u001b[0m\u001b[1;33m\u001b[0m\u001b[0m\n\u001b[0m\u001b[0;32m     53\u001b[0m             \u001b[0mplt\u001b[0m\u001b[1;33m.\u001b[0m\u001b[0mdraw\u001b[0m\u001b[1;33m(\u001b[0m\u001b[1;33m)\u001b[0m\u001b[1;33m\u001b[0m\u001b[0m\n\u001b[0;32m     54\u001b[0m \u001b[1;33m\u001b[0m\u001b[0m\n",
      "\u001b[1;32mC:\\Anaconda3\\lib\\site-packages\\matplotlib\\pyplot.py\u001b[0m in \u001b[0;36mpause\u001b[1;34m(interval)\u001b[0m\n\u001b[0;32m    289\u001b[0m                 \u001b[0mcanvas\u001b[0m\u001b[1;33m.\u001b[0m\u001b[0mdraw\u001b[0m\u001b[1;33m(\u001b[0m\u001b[1;33m)\u001b[0m\u001b[1;33m\u001b[0m\u001b[0m\n\u001b[0;32m    290\u001b[0m             \u001b[0mshow\u001b[0m\u001b[1;33m(\u001b[0m\u001b[0mblock\u001b[0m\u001b[1;33m=\u001b[0m\u001b[1;32mFalse\u001b[0m\u001b[1;33m)\u001b[0m\u001b[1;33m\u001b[0m\u001b[0m\n\u001b[1;32m--> 291\u001b[1;33m             \u001b[0mcanvas\u001b[0m\u001b[1;33m.\u001b[0m\u001b[0mstart_event_loop\u001b[0m\u001b[1;33m(\u001b[0m\u001b[0minterval\u001b[0m\u001b[1;33m)\u001b[0m\u001b[1;33m\u001b[0m\u001b[0m\n\u001b[0m\u001b[0;32m    292\u001b[0m             \u001b[1;32mreturn\u001b[0m\u001b[1;33m\u001b[0m\u001b[0m\n\u001b[0;32m    293\u001b[0m \u001b[1;33m\u001b[0m\u001b[0m\n",
      "\u001b[1;32mC:\\Anaconda3\\lib\\site-packages\\matplotlib\\backends\\backend_qt5.py\u001b[0m in \u001b[0;36mstart_event_loop\u001b[1;34m(self, timeout)\u001b[0m\n\u001b[0;32m    405\u001b[0m \u001b[1;33m\u001b[0m\u001b[0m\n\u001b[0;32m    406\u001b[0m     \u001b[1;32mdef\u001b[0m \u001b[0mstart_event_loop\u001b[0m\u001b[1;33m(\u001b[0m\u001b[0mself\u001b[0m\u001b[1;33m,\u001b[0m \u001b[0mtimeout\u001b[0m\u001b[1;33m)\u001b[0m\u001b[1;33m:\u001b[0m\u001b[1;33m\u001b[0m\u001b[0m\n\u001b[1;32m--> 407\u001b[1;33m         \u001b[0mFigureCanvasBase\u001b[0m\u001b[1;33m.\u001b[0m\u001b[0mstart_event_loop_default\u001b[0m\u001b[1;33m(\u001b[0m\u001b[0mself\u001b[0m\u001b[1;33m,\u001b[0m \u001b[0mtimeout\u001b[0m\u001b[1;33m)\u001b[0m\u001b[1;33m\u001b[0m\u001b[0m\n\u001b[0m\u001b[0;32m    408\u001b[0m \u001b[1;33m\u001b[0m\u001b[0m\n\u001b[0;32m    409\u001b[0m     \u001b[0mstart_event_loop\u001b[0m\u001b[1;33m.\u001b[0m\u001b[0m__doc__\u001b[0m \u001b[1;33m=\u001b[0m\u001b[0;31m \u001b[0m\u001b[0;31m\\\u001b[0m\u001b[1;33m\u001b[0m\u001b[0m\n",
      "\u001b[1;32mC:\\Anaconda3\\lib\\site-packages\\matplotlib\\backend_bases.py\u001b[0m in \u001b[0;36mstart_event_loop_default\u001b[1;34m(self, timeout)\u001b[0m\n\u001b[0;32m   2442\u001b[0m         \u001b[1;32mwhile\u001b[0m \u001b[0mself\u001b[0m\u001b[1;33m.\u001b[0m\u001b[0m_looping\u001b[0m \u001b[1;32mand\u001b[0m \u001b[0mcounter\u001b[0m \u001b[1;33m*\u001b[0m \u001b[0mtimestep\u001b[0m \u001b[1;33m<\u001b[0m \u001b[0mtimeout\u001b[0m\u001b[1;33m:\u001b[0m\u001b[1;33m\u001b[0m\u001b[0m\n\u001b[0;32m   2443\u001b[0m             \u001b[0mself\u001b[0m\u001b[1;33m.\u001b[0m\u001b[0mflush_events\u001b[0m\u001b[1;33m(\u001b[0m\u001b[1;33m)\u001b[0m\u001b[1;33m\u001b[0m\u001b[0m\n\u001b[1;32m-> 2444\u001b[1;33m             \u001b[0mtime\u001b[0m\u001b[1;33m.\u001b[0m\u001b[0msleep\u001b[0m\u001b[1;33m(\u001b[0m\u001b[0mtimestep\u001b[0m\u001b[1;33m)\u001b[0m\u001b[1;33m\u001b[0m\u001b[0m\n\u001b[0m\u001b[0;32m   2445\u001b[0m             \u001b[0mcounter\u001b[0m \u001b[1;33m+=\u001b[0m \u001b[1;36m1\u001b[0m\u001b[1;33m\u001b[0m\u001b[0m\n\u001b[0;32m   2446\u001b[0m \u001b[1;33m\u001b[0m\u001b[0m\n",
      "\u001b[1;31mKeyboardInterrupt\u001b[0m: "
     ]
    }
   ],
   "source": [
    "mh.play()"
   ]
  },
  {
   "cell_type": "code",
   "execution_count": 2,
   "metadata": {
    "collapsed": false
   },
   "outputs": [
    {
     "name": "stdout",
     "output_type": "stream",
     "text": [
      "Python 3_5 is not supported.\n",
      "Can't make spectrograms because Matlab engine not compatible. Try using Python 3.4.\n"
     ]
    }
   ],
   "source": [
    "import mid"
   ]
  },
  {
   "cell_type": "code",
   "execution_count": 11,
   "metadata": {
    "collapsed": false
   },
   "outputs": [
    {
     "data": {
      "text/plain": [
       "<module 'mid' from 'C:\\\\Users\\\\Eric\\\\Documents\\\\Berkeley\\\\Research\\\\Neuroscience\\\\DeWeese_Lab_analysis\\\\mymid\\\\MID\\\\mid.py'>"
      ]
     },
     "execution_count": 11,
     "metadata": {},
     "output_type": "execute_result"
    }
   ],
   "source": [
    "from imp import reload\n",
    "reload(mid)"
   ]
  },
  {
   "cell_type": "code",
   "execution_count": 22,
   "metadata": {
    "collapsed": false
   },
   "outputs": [
    {
     "name": "stdout",
     "output_type": "stream",
     "text": [
      "Specialized initialization failed. Falling back on first stimulus.\n"
     ]
    }
   ],
   "source": [
    "anmid = mid.MID(handler=mh)"
   ]
  },
  {
   "cell_type": "code",
   "execution_count": 39,
   "metadata": {
    "collapsed": false,
    "scrolled": true
   },
   "outputs": [
    {
     "name": "stdout",
     "output_type": "stream",
     "text": [
      "Info             Gradient norm\n",
      "0.644174259362  5.85793208946\n",
      "0.644146930621  5.85479589933\n",
      "0.644441098891  5.84688544667\n",
      "0.644679063  5.84813821417\n",
      "0.644500196091  5.83644223234\n",
      "0.644529629331  5.83306223581\n",
      "0.644343635146  5.82840801544\n",
      "0.644805631209  5.83644166373\n",
      "0.645026340491  5.84722909784\n",
      "0.644763993589  5.82797676494\n",
      "0.645242372362  5.84074541769\n",
      "0.644846082974  5.81160225378\n",
      "0.645502832802  5.85673062338\n",
      "0.645206715995  5.83848536091\n",
      "0.645648391992  5.85874941012\n",
      "0.645610100775  5.85419850518\n",
      "0.645337898515  5.82332963789\n",
      "0.646151412088  5.83982099651\n",
      "0.645620316393  5.82991029024\n",
      "0.646568857457  5.85177734683\n",
      "0.646142141474  5.82965258383\n",
      "0.647243286943  5.85656891911\n",
      "0.647540247893  5.8602872292\n",
      "0.647634571004  5.86036993133\n",
      "0.646808027907  5.8306724738\n",
      "0.647879929938  5.8577980335\n",
      "0.647910764268  5.85208500811\n",
      "0.647751795076  5.842114405\n",
      "0.64742906052  5.82443552425\n",
      "0.648048732425  5.83980094534\n",
      "0.647993480596  5.83157669404\n",
      "0.648053166782  5.83213321594\n",
      "0.648310065359  5.81661176546\n",
      "0.647878302795  5.79805856536\n",
      "0.648545870679  5.80329040872\n",
      "0.648716726205  5.79218722165\n",
      "0.648572957016  5.77803896699\n",
      "0.649098986025  5.79089477306\n",
      "0.649078831168  5.78830418079\n",
      "0.649106936488  5.78321840039\n",
      "0.64930723961  5.80105681787\n",
      "0.649253445212  5.79745972804\n",
      "0.648963020456  5.78579968896\n",
      "0.648568611163  5.76496861428\n",
      "0.649208112972  5.80004761394\n",
      "0.649200724169  5.78482737955\n",
      "0.649025991328  5.7848406732\n",
      "0.649301258155  5.78639717037\n",
      "0.649072141975  5.77260913993\n",
      "0.649020507955  5.79365341637\n",
      "0.649697651143  5.81923675664\n",
      "0.649379700311  5.78115962789\n",
      "0.650089950595  5.78893727903\n",
      "0.650180939725  5.80683735481\n",
      "0.651450552533  5.86009888032\n",
      "0.651131627362  5.85769752587\n",
      "0.651399461457  5.83294539643\n",
      "0.651009919826  5.81174124637\n",
      "0.651318978673  5.82224465626\n",
      "0.651309695603  5.81693340595\n",
      "0.650897691731  5.8531034535\n",
      "0.651539445258  5.85826336081\n",
      "0.651595564697  5.86471535805\n",
      "0.651711551436  5.85484664309\n",
      "0.651994644018  5.86127509081\n",
      "0.652034752806  5.86335625766\n",
      "0.652006678063  5.87538633984\n",
      "0.652166631424  5.88117619541\n",
      "0.652152806651  5.87944100485\n",
      "0.652359451144  5.8698429597\n",
      "0.652934834008  5.87686120501\n",
      "0.652514693803  5.86603519653\n",
      "0.653550434221  5.90676436505\n",
      "0.653060138116  5.87600745529\n",
      "0.653409714299  5.88083076288\n",
      "0.652943983749  5.85993507767\n",
      "0.653751244631  5.89316697982\n",
      "0.653807295109  5.87123852771\n",
      "0.653835929878  5.8667144193\n",
      "0.653756017595  5.87457140889\n",
      "0.65393557709  5.87208975112\n",
      "0.654526475283  5.88517849136\n",
      "0.654232830109  5.8632400322\n",
      "0.654126964895  5.8576055552\n",
      "0.654850106755  5.87497862452\n",
      "0.654289646922  5.85893150274\n",
      "0.655438105291  5.90677978378\n",
      "0.654881569904  5.89164873087\n",
      "0.655625612282  5.91632273995\n",
      "0.65520495002  5.8897842185\n",
      "0.655618324026  5.88413722579\n",
      "0.656313099446  5.87966049619\n",
      "0.656191003016  5.86988768087\n",
      "0.657370469662  5.92425291957\n",
      "0.656612365412  5.89400419873\n",
      "0.65699572507  5.96750522009\n",
      "0.657252115285  5.90394535016\n",
      "0.657843662862  5.91099432339\n",
      "0.657627556178  5.89873446598\n",
      "0.657887391356  5.91315408638\n",
      "0.657887391356  5.91315408638\n",
      "Did not converge to desired precision.\n"
     ]
    }
   ],
   "source": [
    "res = anmid.optimize('GA', rate=1e-4,maxiter=100)"
   ]
  },
  {
   "cell_type": "code",
   "execution_count": 40,
   "metadata": {
    "collapsed": true
   },
   "outputs": [],
   "source": [
    "mh.show_strf(anmid.v)"
   ]
  },
  {
   "cell_type": "code",
   "execution_count": 41,
   "metadata": {
    "collapsed": false
   },
   "outputs": [],
   "source": [
    "plt.show()"
   ]
  },
  {
   "cell_type": "code",
   "execution_count": 53,
   "metadata": {
    "collapsed": false
   },
   "outputs": [],
   "source": [
    "anmid.v =prettygood"
   ]
  },
  {
   "cell_type": "code",
   "execution_count": 3,
   "metadata": {
    "collapsed": false
   },
   "outputs": [],
   "source": [
    "class TestHandler:\n",
    "    def __init__(self, datasize=5, ndata=1e5):\n",
    "        self.nstim = int(ndata)\n",
    "        self.data = np.random.randn(self.nstim,5)\n",
    "        self.data = self.data/np.sqrt(np.sum(self.data**2,1))[:,np.newaxis]\n",
    "        self.truerf = np.zeros((datasize))\n",
    "        self.truerf[0] = 1\n",
    "        self.generate_spiketrain()\n",
    "        \n",
    "    def get_nstim(self):\n",
    "        return self.nstim\n",
    "        \n",
    "    def generate_spiketrain(self):\n",
    "        ndata = self.nstim\n",
    "        self.spiketrain = np.zeros((ndata))\n",
    "        for point in range(ndata):\n",
    "            rate = self.truerf.dot(self.data[point])\n",
    "            rate = rate if rate>0 else 0\n",
    "            self.spiketrain[point] = np.random.binomial(1,rate)\n",
    "                           \n",
    "    def generator(self):\n",
    "        for stim, spike in zip(self.data, self.spiketrain):\n",
    "            yield stim, spike"
   ]
  },
  {
   "cell_type": "code",
   "execution_count": 7,
   "metadata": {
    "collapsed": false
   },
   "outputs": [
    {
     "name": "stdout",
     "output_type": "stream",
     "text": [
      "Specialized initialization failed. Falling back on first stimulus.\n"
     ]
    }
   ],
   "source": [
    "th = TestHandler(ndata=1e6)\n",
    "testmid = mid.MID(handler=th)"
   ]
  },
  {
   "cell_type": "code",
   "execution_count": 13,
   "metadata": {
    "collapsed": false
   },
   "outputs": [
    {
     "name": "stdout",
     "output_type": "stream",
     "text": [
      "Info             Gradient norm\n",
      "0.107123777651  0.05396179066\n",
      "0.142267658332  0.0628167544264\n",
      "0.190021646439  0.0721883197348\n",
      "0.250955804573  0.0821195105054\n",
      "0.329965688857  0.0913879237723\n",
      "0.424564603342  0.09866080305\n",
      "0.535754031468  0.105397030906\n",
      "0.657868699475  0.108928219932\n",
      "0.786735071049  0.10983075188\n",
      "0.91427404664  0.106346395109\n",
      "1.03038305572  0.0984944789149\n",
      "1.12789277592  0.0884025443502\n",
      "1.20105367349  0.0741574783021\n",
      "1.25511486608  0.0580739101234\n",
      "1.28374528411  0.0458175285926\n",
      "1.30036377123  0.0332544346966\n",
      "1.30894012626  0.0233604804109\n",
      "1.31313760413  0.00628217816262\n",
      "1.3123066151  0.00495882479502\n",
      "1.31254606497  0.00410744765102\n",
      "1.31299940147  0.00363294017288\n",
      "1.31269420411  0.00350970443528\n",
      "1.31279881767  0.00338602593697\n",
      "1.31305368996  0.00332638083555\n",
      "1.31296344803  0.00330953619209\n",
      "1.31302301611  0.00329457814082\n",
      "1.31290104386  0.003301457799\n",
      "1.31297772781  0.00329038238481\n",
      "1.31294674628  0.00329234803067\n",
      "1.31292451937  0.00329453899985\n",
      "1.31290184626  0.00329574573135\n",
      "1.31285435883  0.00329943916633\n",
      "1.31287288106  0.00329660864948\n",
      "1.31286593093  0.00329684509073\n",
      "1.31282021579  0.00330105190404\n",
      "1.31282021579  0.00330105190404\n",
      "1.31283706666  0.00329951867247\n",
      "1.31283706666  0.00329951867247\n",
      "1.31283205303  0.00329987045036\n",
      "1.31282194639  0.00330096787645\n",
      "1.31282158323  0.00330118077934\n",
      "1.31280208771  0.00330272170857\n",
      "1.31280208771  0.00330272170857\n",
      "1.312792062  0.00330343164106\n",
      "1.31280024254  0.00330283545993\n",
      "1.31279522995  0.00330296852605\n",
      "1.31279337596  0.00330368304256\n",
      "1.31279522995  0.00330319338187\n",
      "1.31279522995  0.00330319338187\n",
      "1.31279337596  0.00330346100565\n",
      "1.31279522995  0.00330319338187\n",
      "1.31278836388  0.00330403560883\n",
      "1.31282555625  0.00330091667883\n",
      "1.31281370475  0.0033020894742\n",
      "1.31283481048  0.00330001102278\n",
      "1.31283248067  0.00330032389766\n",
      "1.31281795339  0.00330153949425\n",
      "1.31284431951  0.00329915032681\n",
      "1.31282746911  0.00330067796023\n",
      "1.31282746911  0.00330067796023\n",
      "1.31283481048  0.00330001102278\n",
      "1.31282746911  0.00330067796023\n",
      "1.31282746911  0.00330067796023\n",
      "1.31282746911  0.00330067796023\n",
      "1.31282446011  0.00330091395815\n",
      "1.31282746911  0.00330067796023\n",
      "1.31282746911  0.00330067796023\n",
      "1.31281713576  0.00330157989333\n",
      "1.31281411707  0.00330181677935\n",
      "1.31282214732  0.00330099974382\n",
      "1.31284431951  0.00329915032681\n",
      "1.31282746911  0.00330045427358\n",
      "1.31281713576  0.00330157989333\n",
      "1.31282214732  0.00330122287126\n",
      "1.31284431951  0.00329915032681\n",
      "1.31282746911  0.00330045427358\n",
      "1.31283397466  0.00330005306143\n",
      "1.31281262608  0.00330186336688\n",
      "1.31284431951  0.00329915032681\n",
      "1.31282746911  0.00330045427358\n",
      "1.31282746911  0.00330067796023\n",
      "1.31284933107  0.00329879308409\n",
      "1.31282746911  0.00330045427358\n",
      "1.31282746911  0.00330067796023\n",
      "1.31284431951  0.00329915032681\n",
      "1.31283248067  0.0033000980443\n",
      "1.31284431951  0.00329915032681\n",
      "1.31282746911  0.00330045427358\n",
      "1.31282746911  0.00330067796023\n",
      "1.31283898622  0.00329969556517\n",
      "1.31282746911  0.00330045427358\n",
      "1.31283397466  0.00330005314264\n",
      "1.31282296496  0.00330096147186\n",
      "1.31284431951  0.00329915032681\n",
      "1.31283248067  0.00330010051441\n",
      "1.31284933107  0.00329879308409\n",
      "1.31282746911  0.00330045427358\n",
      "1.31284431951  0.00329915032681\n",
      "1.31283248067  0.0033000980443\n",
      "1.31282746911  0.00330067796023\n",
      "1.31282746911  0.00330067796023\n",
      "Did not converge to desired precision.\n"
     ]
    }
   ],
   "source": [
    "testresults = testmid.optimize('GA',rate=1,maxiter=100)"
   ]
  },
  {
   "cell_type": "code",
   "execution_count": 14,
   "metadata": {
    "collapsed": false
   },
   "outputs": [
    {
     "data": {
      "text/plain": [
       "array([-1.35483114, -0.00220391, -0.00385917, -0.00945543, -0.00187351])"
      ]
     },
     "execution_count": 14,
     "metadata": {},
     "output_type": "execute_result"
    }
   ],
   "source": [
    "testmid.v"
   ]
  },
  {
   "cell_type": "code",
   "execution_count": 18,
   "metadata": {
    "collapsed": false
   },
   "outputs": [
    {
     "data": {
      "text/plain": [
       "array([ 1.,  0.,  0.,  0.,  0.])"
      ]
     },
     "execution_count": 18,
     "metadata": {},
     "output_type": "execute_result"
    }
   ],
   "source": [
    "th.truerf"
   ]
  },
  {
   "cell_type": "code",
   "execution_count": 10,
   "metadata": {
    "collapsed": false
   },
   "outputs": [],
   "source": [
    "info, grad = testmid.info_grad(testmid.v,neg=False)"
   ]
  },
  {
   "cell_type": "code",
   "execution_count": 11,
   "metadata": {
    "collapsed": false
   },
   "outputs": [
    {
     "data": {
      "text/plain": [
       "array([ -3.19422677e-03,   4.53008849e-04,  -8.95012687e-05,\n",
       "         5.58564394e-05,  -5.67877378e-05])"
      ]
     },
     "execution_count": 11,
     "metadata": {},
     "output_type": "execute_result"
    }
   ],
   "source": [
    "grad"
   ]
  },
  {
   "cell_type": "code",
   "execution_count": 15,
   "metadata": {
    "collapsed": false
   },
   "outputs": [
    {
     "ename": "NameError",
     "evalue": "name 'grad' is not defined",
     "output_type": "error",
     "traceback": [
      "\u001b[1;31m---------------------------------------------------------------------------\u001b[0m",
      "\u001b[1;31mNameError\u001b[0m                                 Traceback (most recent call last)",
      "\u001b[1;32m<ipython-input-15-b401ce4e2030>\u001b[0m in \u001b[0;36m<module>\u001b[1;34m()\u001b[0m\n\u001b[1;32m----> 1\u001b[1;33m \u001b[0mgrad\u001b[0m\u001b[1;33m.\u001b[0m\u001b[0mdot\u001b[0m\u001b[1;33m(\u001b[0m\u001b[0mtestmid\u001b[0m\u001b[1;33m.\u001b[0m\u001b[0mv\u001b[0m\u001b[1;33m)\u001b[0m\u001b[1;33m\u001b[0m\u001b[0m\n\u001b[0m",
      "\u001b[1;31mNameError\u001b[0m: name 'grad' is not defined"
     ]
    }
   ],
   "source": [
    "grad.dot(testmid.v)"
   ]
  },
  {
   "cell_type": "code",
   "execution_count": 15,
   "metadata": {
    "collapsed": false
   },
   "outputs": [
    {
     "name": "stdout",
     "output_type": "stream",
     "text": [
      "[ 0.14781714 -0.06893542 -0.06967218 -0.06996106 -0.06930162]\n",
      "[ 0.20287896 -0.09543404 -0.10106793 -0.09942686 -0.11212613]\n"
     ]
    }
   ],
   "source": [
    "v = np.array([.4,.2,.2,.2,.2])\n",
    "grad = np.zeros(5)\n",
    "epsilon = .01\n",
    "info, supposedgrad = testmid.info_grad(v, neg=False)\n",
    "for direc in range(5):\n",
    "    delta = np.zeros(5)\n",
    "    delta[direc] = epsilon\n",
    "    newinfo, _ =  testmid.info_grad(v+delta, neg=False)\n",
    "    grad[direc] = (newinfo-info)/epsilon\n",
    "print(supposedgrad)\n",
    "print(grad)"
   ]
  },
  {
   "cell_type": "code",
   "execution_count": 16,
   "metadata": {
    "collapsed": false
   },
   "outputs": [],
   "source": [
    "info, pv, pvt = testmid.info_and_dists()\n",
    "abscissa = np.arange(15)\n",
    "plt.plot(abscissa, pv, 'b.', abscissa, pvt, 'r.', abscissa, pvt/pv, 'g.')\n",
    "plt.show()"
   ]
  },
  {
   "cell_type": "code",
   "execution_count": 22,
   "metadata": {
    "collapsed": false
   },
   "outputs": [
    {
     "data": {
      "text/plain": [
       "2.4119016054862952"
      ]
     },
     "execution_count": 22,
     "metadata": {},
     "output_type": "execute_result"
    }
   ],
   "source": [
    "np.log2(th.get_nstim()/th.spiketrain.sum())"
   ]
  },
  {
   "cell_type": "code",
   "execution_count": 17,
   "metadata": {
    "collapsed": false
   },
   "outputs": [
    {
     "name": "stdout",
     "output_type": "stream",
     "text": [
      "1.31991421587\n"
     ]
    }
   ],
   "source": [
    "alltheinfo = testmid.info(th.truerf, neg=False)\n",
    "print(alltheinfo)"
   ]
  },
  {
   "cell_type": "code",
   "execution_count": 27,
   "metadata": {
    "collapsed": false
   },
   "outputs": [
    {
     "name": "stdout",
     "output_type": "stream",
     "text": [
      "3.83883347406\n"
     ]
    }
   ],
   "source": [
    "expbias = (th.get_nstim()/th.spiketrain.sum())/(2*np.log(2))\n",
    "print(expbias)"
   ]
  },
  {
   "cell_type": "code",
   "execution_count": 5,
   "metadata": {
    "collapsed": false
   },
   "outputs": [
    {
     "name": "stdout",
     "output_type": "stream",
     "text": [
      "Warning: Desired error not necessarily achieved due to precision loss.\n",
      "         Current function value: -1.320318\n",
      "         Iterations: 5\n",
      "         Function evaluations: 56\n",
      "         Gradient evaluations: 44\n",
      "Desired error not necessarily achieved due to precision loss.\n"
     ]
    }
   ],
   "source": [
    "withbfgs = testmid.optimize('BFGS')"
   ]
  },
  {
   "cell_type": "code",
   "execution_count": 6,
   "metadata": {
    "collapsed": false
   },
   "outputs": [
    {
     "data": {
      "text/plain": [
       "array([ 2.52087593,  0.0077204 , -0.02900514, -0.00861167, -0.00476075])"
      ]
     },
     "execution_count": 6,
     "metadata": {},
     "output_type": "execute_result"
    }
   ],
   "source": [
    "withbfgs.x"
   ]
  },
  {
   "cell_type": "code",
   "execution_count": 8,
   "metadata": {
    "collapsed": false
   },
   "outputs": [
    {
     "name": "stdout",
     "output_type": "stream",
     "text": [
      "5.140145385436469\n",
      "8.321890010674267\n"
     ]
    }
   ],
   "source": [
    "import time \n",
    "init = time.clock()\n",
    "info = testmid.info()\n",
    "justinfotime = time.clock() - init\n",
    "info, grad = testmid.info_grad(testmid.v)\n",
    "bothtime = time.clock() - justinfotime - init\n",
    "print(justinfotime)\n",
    "print(bothtime)"
   ]
  },
  {
   "cell_type": "code",
   "execution_count": null,
   "metadata": {
    "collapsed": true
   },
   "outputs": [],
   "source": []
  }
 ],
 "metadata": {
  "kernelspec": {
   "display_name": "Python 3",
   "language": "python",
   "name": "python3"
  },
  "language_info": {
   "codemirror_mode": {
    "name": "ipython",
    "version": 3
   },
   "file_extension": ".py",
   "mimetype": "text/x-python",
   "name": "python",
   "nbconvert_exporter": "python",
   "pygments_lexer": "ipython3",
   "version": "3.5.1"
  }
 },
 "nbformat": 4,
 "nbformat_minor": 0
}
