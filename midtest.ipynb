{
 "cells": [
  {
   "cell_type": "code",
   "execution_count": 1,
   "metadata": {
    "collapsed": true
   },
   "outputs": [],
   "source": [
    "demofolder = '../mid/mid-demo/'\n",
    "spikefile = '11101_1.isk'\n",
    "moviefile = 'walk1_ieee_128x128x16384.raw'"
   ]
  },
  {
   "cell_type": "code",
   "execution_count": 2,
   "metadata": {
    "collapsed": false
   },
   "outputs": [
    {
     "name": "stdout",
     "output_type": "stream",
     "text": [
      "Can't read this line as an int.\n",
      "Can't read this line as an int.\n",
      "16384\n",
      "20910\n"
     ]
    }
   ],
   "source": [
    "with open(demofolder+spikefile, 'r') as f:\n",
    "    nframes = 0\n",
    "    nspikes = 0\n",
    "    for line in f:\n",
    "        nframes += 1\n",
    "        try:\n",
    "            nspikes += int(line.rstrip())\n",
    "        except ValueError:\n",
    "            print(\"Can't read this line as an int.\")\n",
    "print(nframes)\n",
    "print(nspikes)"
   ]
  },
  {
   "cell_type": "code",
   "execution_count": 23,
   "metadata": {
    "collapsed": false
   },
   "outputs": [
    {
     "name": "stdout",
     "output_type": "stream",
     "text": [
      "<class '_io.BufferedReader'>\n",
      "123532465\n",
      "604940\n",
      "4893040\n",
      "16025108\n",
      "82979045\n",
      "31964868\n",
      "894\n",
      "3306\n",
      "48\n",
      "8431742\n",
      "268435456\n",
      "10\n"
     ]
    }
   ],
   "source": [
    "with open(demofolder+moviefile,'rb') as f:\n",
    "    print(type(f))\n",
    "    count = 0\n",
    "    bigcount = 0\n",
    "    for thing in f:\n",
    "        print(len(thing))\n",
    "        count += 1\n",
    "        bigcount += len(thing)\n",
    "print(bigcount)\n",
    "print(count)"
   ]
  },
  {
   "cell_type": "code",
   "execution_count": 2,
   "metadata": {
    "collapsed": false
   },
   "outputs": [],
   "source": [
    "import matplotlib.pyplot as plt\n",
    "import numpy as np\n",
    "plt.ion()"
   ]
  },
  {
   "cell_type": "code",
   "execution_count": 26,
   "metadata": {
    "collapsed": false
   },
   "outputs": [
    {
     "data": {
      "text/plain": [
       "True"
      ]
     },
     "execution_count": 26,
     "metadata": {},
     "output_type": "execute_result"
    }
   ],
   "source": [
    "(128*128*16384) == bigcount"
   ]
  },
  {
   "cell_type": "code",
   "execution_count": 47,
   "metadata": {
    "collapsed": false
   },
   "outputs": [
    {
     "data": {
      "text/plain": [
       "<matplotlib.image.AxesImage at 0x2094e501710>"
      ]
     },
     "execution_count": 47,
     "metadata": {},
     "output_type": "execute_result"
    }
   ],
   "source": [
    "with open(demofolder+moviefile,'rb') as f:\n",
    "    frame = f.read(128*128)\n",
    "flframe = np.zeros(len(frame))\n",
    "for pix in range(len(frame)):\n",
    "    flframe[pix] = float(frame[pix])\n",
    "plt.imshow(flframe.reshape((128,128)),cmap='gray')"
   ]
  },
  {
   "cell_type": "code",
   "execution_count": null,
   "metadata": {
    "collapsed": false
   },
   "outputs": [],
   "source": [
    "with open(demofolder+moviefile,'rb') as f:\n",
    "    while True:\n",
    "        frame = f.read(128*128)\n",
    "        if not frame:\n",
    "            break\n",
    "        flframe = np.zeros(len(frame))\n",
    "        for pix in range(len(frame)):\n",
    "            flframe[pix] = float(frame[pix])\n",
    "        plt.imshow(flframe.reshape((128,128)),cmap='gray')\n",
    "        plt.show()"
   ]
  },
  {
   "cell_type": "code",
   "execution_count": 48,
   "metadata": {
    "collapsed": true
   },
   "outputs": [],
   "source": [
    "plt.show()"
   ]
  },
  {
   "cell_type": "code",
   "execution_count": 3,
   "metadata": {
    "collapsed": true
   },
   "outputs": [],
   "source": [
    "class MovieHandler:\n",
    "    def __init__(self, file=None):\n",
    "        if file is not None:\n",
    "            self.load(file)\n",
    "    \n",
    "    def load(self, file, frameshape = (128,128)):\n",
    "        self.frameshape = frameshape\n",
    "        framesize = np.prod(self.frameshape)\n",
    "        self.movie = []\n",
    "        with open(file,'rb') as f:\n",
    "            while True:\n",
    "                frame = f.read(framesize)\n",
    "                if not frame:\n",
    "                    break\n",
    "                flframe = np.zeros(len(frame))\n",
    "                for pix in range(len(frame)):\n",
    "                    flframe[pix] = float(frame[pix])\n",
    "                self.movie.append(flframe)\n",
    "                \n",
    "    def play(self, rate=30):\n",
    "        try:\n",
    "            self.movie\n",
    "        except NameError:\n",
    "            print(\"No movie loaded.\")\n",
    "        img = None\n",
    "        for frame in self.movie:\n",
    "            fr = frame.reshape((128,128))\n",
    "            if img is None:\n",
    "                img = plt.imshow(fr,cmap='gray')\n",
    "            else:\n",
    "                img.set_data(fr)\n",
    "            plt.pause(1./rate)\n",
    "            plt.draw()\n",
    "            \n",
    "    def generator(self):\n",
    "        try:\n",
    "            self.movie\n",
    "        except NameError:\n",
    "            print(\"No movie loaded.\")\n",
    "        # TODO: write this"
   ]
  },
  {
   "cell_type": "code",
   "execution_count": 4,
   "metadata": {
    "collapsed": false
   },
   "outputs": [],
   "source": [
    "mh = MovieHandler(demofolder+moviefile)"
   ]
  },
  {
   "cell_type": "code",
   "execution_count": null,
   "metadata": {
    "collapsed": false
   },
   "outputs": [
    {
     "name": "stderr",
     "output_type": "stream",
     "text": [
      "C:\\Anaconda3\\lib\\site-packages\\matplotlib\\backend_bases.py:2435: MatplotlibDeprecationWarning: Using default event loop until function specific to this GUI is implemented\n",
      "  warnings.warn(str, mplDeprecation)\n"
     ]
    },
    {
     "ename": "KeyboardInterrupt",
     "evalue": "",
     "output_type": "error",
     "traceback": [
      "\u001b[1;31m---------------------------------------------------------------------------\u001b[0m",
      "\u001b[1;31mKeyboardInterrupt\u001b[0m                         Traceback (most recent call last)",
      "\u001b[1;32mC:\\Anaconda3\\lib\\site-packages\\matplotlib\\backends\\backend_qt5agg.py\u001b[0m in \u001b[0;36mpaintEvent\u001b[1;34m(self, e)\u001b[0m\n\u001b[0;32m    107\u001b[0m             \u001b[0mp\u001b[0m\u001b[1;33m.\u001b[0m\u001b[0meraseRect\u001b[0m\u001b[1;33m(\u001b[0m\u001b[0mrect\u001b[0m\u001b[1;33m)\u001b[0m\u001b[1;33m\u001b[0m\u001b[0m\n\u001b[0;32m    108\u001b[0m             \u001b[1;31m# draw the rendered image on to the canvas\u001b[0m\u001b[1;33m\u001b[0m\u001b[1;33m\u001b[0m\u001b[0m\n\u001b[1;32m--> 109\u001b[1;33m             \u001b[0mp\u001b[0m\u001b[1;33m.\u001b[0m\u001b[0mdrawPixmap\u001b[0m\u001b[1;33m(\u001b[0m\u001b[0mQtCore\u001b[0m\u001b[1;33m.\u001b[0m\u001b[0mQPoint\u001b[0m\u001b[1;33m(\u001b[0m\u001b[1;36m0\u001b[0m\u001b[1;33m,\u001b[0m \u001b[1;36m0\u001b[0m\u001b[1;33m)\u001b[0m\u001b[1;33m,\u001b[0m \u001b[0mQtGui\u001b[0m\u001b[1;33m.\u001b[0m\u001b[0mQPixmap\u001b[0m\u001b[1;33m.\u001b[0m\u001b[0mfromImage\u001b[0m\u001b[1;33m(\u001b[0m\u001b[0mqImage\u001b[0m\u001b[1;33m)\u001b[0m\u001b[1;33m)\u001b[0m\u001b[1;33m\u001b[0m\u001b[0m\n\u001b[0m\u001b[0;32m    110\u001b[0m \u001b[1;33m\u001b[0m\u001b[0m\n\u001b[0;32m    111\u001b[0m             \u001b[1;31m# draw the zoom rectangle to the QPainter\u001b[0m\u001b[1;33m\u001b[0m\u001b[1;33m\u001b[0m\u001b[0m\n",
      "\u001b[1;31mKeyboardInterrupt\u001b[0m: "
     ]
    }
   ],
   "source": [
    "mh.play()"
   ]
  },
  {
   "cell_type": "code",
   "execution_count": 4,
   "metadata": {
    "collapsed": false
   },
   "outputs": [
    {
     "data": {
      "text/plain": [
       "1e-06"
      ]
     },
     "execution_count": 4,
     "metadata": {},
     "output_type": "execute_result"
    }
   ],
   "source": [
    "10e-7"
   ]
  },
  {
   "cell_type": "code",
   "execution_count": 5,
   "metadata": {
    "collapsed": false
   },
   "outputs": [
    {
     "data": {
      "text/plain": [
       "1919"
      ]
     },
     "execution_count": 5,
     "metadata": {},
     "output_type": "execute_result"
    }
   ],
   "source": [
    "2015-96"
   ]
  },
  {
   "cell_type": "code",
   "execution_count": null,
   "metadata": {
    "collapsed": true
   },
   "outputs": [],
   "source": []
  }
 ],
 "metadata": {
  "kernelspec": {
   "display_name": "Python 3",
   "language": "python",
   "name": "python3"
  },
  "language_info": {
   "codemirror_mode": {
    "name": "ipython",
    "version": 3
   },
   "file_extension": ".py",
   "mimetype": "text/x-python",
   "name": "python",
   "nbconvert_exporter": "python",
   "pygments_lexer": "ipython3",
   "version": "3.5.1"
  }
 },
 "nbformat": 4,
 "nbformat_minor": 0
}
