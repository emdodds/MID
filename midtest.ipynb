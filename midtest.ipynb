{
 "cells": [
  {
   "cell_type": "code",
   "execution_count": 15,
   "metadata": {
    "collapsed": true
   },
   "outputs": [],
   "source": [
    "import numpy as np\n",
    "% matplotlib inline\n",
    "import matplotlib.pyplot as plt"
   ]
  },
  {
   "cell_type": "code",
   "execution_count": 1,
   "metadata": {
    "collapsed": true
   },
   "outputs": [],
   "source": [
    "demofolder = '../../mid/mid-demo/'\n",
    "spikefile = '11101_1.isk'\n",
    "moviefile = 'walk1_ieee_128x128x16384.raw'"
   ]
  },
  {
   "cell_type": "code",
   "execution_count": 2,
   "metadata": {
    "collapsed": false
   },
   "outputs": [
    {
     "name": "stdout",
     "output_type": "stream",
     "text": [
      "Can't read this line as an int.\n",
      "Can't read this line as an int.\n",
      "16384\n",
      "20910\n"
     ]
    }
   ],
   "source": [
    "with open(demofolder+spikefile, 'r') as f:\n",
    "    nframes = 0\n",
    "    nspikes = 0\n",
    "    for line in f:\n",
    "        nframes += 1\n",
    "        try:\n",
    "            nspikes += int(line.rstrip())\n",
    "        except ValueError:\n",
    "            print(\"Can't read this line as an int. Guessing zero.\")\n",
    "print(nframes)\n",
    "print(nspikes)"
   ]
  },
  {
   "cell_type": "code",
   "execution_count": 4,
   "metadata": {
    "collapsed": false
   },
   "outputs": [
    {
     "name": "stdout",
     "output_type": "stream",
     "text": [
      "<class '_io.BufferedReader'>\n",
      "123532465\n",
      "604940\n",
      "4893040\n",
      "16025108\n",
      "82979045\n",
      "31964868\n",
      "894\n",
      "3306\n",
      "48\n",
      "8431742\n",
      "268435456\n",
      "10\n"
     ]
    }
   ],
   "source": [
    "with open(demofolder+moviefile,'rb') as f:\n",
    "    print(type(f))\n",
    "    count = 0\n",
    "    bigcount = 0\n",
    "    for thing in f:\n",
    "        print(len(thing))\n",
    "        count += 1\n",
    "        bigcount += len(thing)\n",
    "print(bigcount)\n",
    "print(count)"
   ]
  },
  {
   "cell_type": "code",
   "execution_count": 6,
   "metadata": {
    "collapsed": false
   },
   "outputs": [
    {
     "name": "stdout",
     "output_type": "stream",
     "text": [
      "57\n"
     ]
    }
   ],
   "source": [
    "print(thing[1])"
   ]
  },
  {
   "cell_type": "code",
   "execution_count": 1,
   "metadata": {
    "collapsed": false
   },
   "outputs": [],
   "source": [
    "import matplotlib.pyplot as plt\n",
    "import numpy as np\n",
    "plt.ioff()"
   ]
  },
  {
   "cell_type": "code",
   "execution_count": 26,
   "metadata": {
    "collapsed": false
   },
   "outputs": [
    {
     "data": {
      "text/plain": [
       "True"
      ]
     },
     "execution_count": 26,
     "metadata": {},
     "output_type": "execute_result"
    }
   ],
   "source": [
    "(128*128*16384) == bigcount"
   ]
  },
  {
   "cell_type": "code",
   "execution_count": 47,
   "metadata": {
    "collapsed": false
   },
   "outputs": [
    {
     "data": {
      "text/plain": [
       "<matplotlib.image.AxesImage at 0x2094e501710>"
      ]
     },
     "execution_count": 47,
     "metadata": {},
     "output_type": "execute_result"
    }
   ],
   "source": [
    "with open(demofolder+moviefile,'rb') as f:\n",
    "    frame = f.read(128*128)\n",
    "flframe = np.zeros(len(frame))\n",
    "for pix in range(len(frame)):\n",
    "    flframe[pix] = float(frame[pix])\n",
    "plt.imshow(flframe.reshape((128,128)),cmap='gray')"
   ]
  },
  {
   "cell_type": "code",
   "execution_count": null,
   "metadata": {
    "collapsed": false
   },
   "outputs": [],
   "source": [
    "with open(demofolder+moviefile,'rb') as f:\n",
    "    while True:\n",
    "        frame = f.read(128*128)\n",
    "        if not frame:\n",
    "            break\n",
    "        flframe = np.zeros(len(frame))\n",
    "        for pix in range(len(frame)):\n",
    "            flframe[pix] = float(frame[pix])\n",
    "        plt.imshow(flframe.reshape((128,128)),cmap='gray')\n",
    "        plt.show()"
   ]
  },
  {
   "cell_type": "code",
   "execution_count": 12,
   "metadata": {
    "collapsed": true
   },
   "outputs": [],
   "source": [
    "plt.show()"
   ]
  },
  {
   "cell_type": "code",
   "execution_count": 18,
   "metadata": {
    "collapsed": true
   },
   "outputs": [],
   "source": [
    "def downsample_frame(frame, factor):\n",
    "    \"\"\"Downsample by blocking the image. Only works for integer downsampling rates.\"\"\"\n",
    "    if int(factor) != factor:\n",
    "        raise ValueError(\"Downsampling rate must be an integer.\")\n",
    "    winit, hinit = frame.shape\n",
    "    wf=int(winit/factor)\n",
    "    hf=int(hinit/factor)\n",
    "    out = np.zeros((wf,hf))\n",
    "    for x in range(wf):\n",
    "        for y in range(hf):\n",
    "            out[x,y] = np.mean(frame[x*factor:(x+1)*factor,y*factor:(y+1)*factor])\n",
    "    return out"
   ]
  },
  {
   "cell_type": "code",
   "execution_count": 19,
   "metadata": {
    "collapsed": true
   },
   "outputs": [],
   "source": [
    "class MovieHandler:\n",
    "    def __init__(self, moviefile=None, spikefile=None, framesinstim=3, downfactor = 4):\n",
    "        self.framesinstim = framesinstim\n",
    "        demofolder = '../../mid/mid-demo/'\n",
    "        self.downfactor = downfactor\n",
    "        if moviefile is None:\n",
    "            moviefile = demofolder +'walk1_ieee_128x128x16384.raw'\n",
    "        if spikefile is None:\n",
    "            spikefile = demofolder +'11101_1.isk'\n",
    "        self.load_movie(moviefile)  \n",
    "        self.load_spikes(spikefile)\n",
    "        if len(self.spiketrain) != len(self.movie):\n",
    "            print('Warning. Spike train length '+str(len(self.spiketrain))+ ' is not equal to movie length '+str(len(self.movie))+'.')        \n",
    "        \n",
    "    def get_nstim(self):\n",
    "        return len(self.spiketrain) - (self.framesinstim-1)\n",
    "    \n",
    "    def load_spikes(self, file):\n",
    "        spiketrain = []\n",
    "        with open(file, 'r') as f:\n",
    "            for line in f:\n",
    "                try:\n",
    "                    spiketrain.append(int(line.rstrip()))\n",
    "                except ValueError:\n",
    "                    print(\"Can't read this line of spike file as an int. Guessing zero.\")\n",
    "                    spiketrain.append(0)\n",
    "        self.spiketrain = spiketrain\n",
    "    \n",
    "    def load_movie(self, file, frameshape = (128,128)):\n",
    "        framesize = np.prod(frameshape)\n",
    "        self.movie = []\n",
    "        with open(file,'rb') as f:\n",
    "            while True:\n",
    "                frame = f.read(framesize)\n",
    "                if not frame:\n",
    "                    break\n",
    "                flframe = np.zeros(len(frame))\n",
    "                for pix in range(len(frame)):\n",
    "                    flframe[pix] = float(frame[pix])\n",
    "                flframe = downsample_frame(flframe.reshape(frameshape),self.downfactor)\n",
    "                self.movie.append(flframe.flatten())     \n",
    "        self.frameshape = tuple([int(length/self.downfactor) for length in frameshape])\n",
    "\n",
    "    def play(self, rate=30):\n",
    "        try:\n",
    "            self.movie\n",
    "        except NameError:\n",
    "            print(\"No movie loaded.\")\n",
    "            return\n",
    "        img = None\n",
    "        for frame in self.movie:\n",
    "            fr = frame.reshape(self.frameshape)\n",
    "            if img is None:\n",
    "                img = plt.imshow(fr,cmap='gray')\n",
    "            else:\n",
    "                img.set_data(fr)\n",
    "            plt.pause(1./rate)\n",
    "            plt.draw()\n",
    "            \n",
    "    def generator(self):\n",
    "        lags = self.framesinstim\n",
    "        try: \n",
    "            for t in range(len(self.spiketrain)):\n",
    "                if t >= lags-1:\n",
    "                    stim = np.zeros((lags,np.prod(self.frameshape)))\n",
    "                    for l in range(lags):\n",
    "                         stim[l,:] = self.movie[t-l].flatten()\n",
    "                    yield stim.flatten(), self.spiketrain[t]\n",
    "        #try:\n",
    "        #    for frame, sp in zip(self.movie, self.spiketrain):\n",
    "        #            yield frame.flatten(), sp\n",
    "        except NameError:\n",
    "            print(\"Looks like you haven't loaded a movie and spiketrain.\")\n",
    "            raise        \n",
    "            \n",
    "    def show_strf(self, strf):\n",
    "        images = strf.reshape((self.framesinstim,)+self.frameshape)\n",
    "        plt.figure()\n",
    "        sqrtsubplots = int(np.ceil((np.sqrt(self.framesinstim))))\n",
    "        for l in range(self.framesinstim):\n",
    "            plt.subplot(sqrtsubplots, sqrtsubplots, l+1)\n",
    "            plt.imshow(images[l], cmap='gray', interpolation='nearest')\n",
    "            plt.colorbar()"
   ]
  },
  {
   "cell_type": "code",
   "execution_count": 20,
   "metadata": {
    "collapsed": false
   },
   "outputs": [
    {
     "name": "stdout",
     "output_type": "stream",
     "text": [
      "Can't read this line of spike file as an int. Guessing zero.\n",
      "Can't read this line of spike file as an int. Guessing zero.\n"
     ]
    }
   ],
   "source": [
    "mh = MovieHandler()"
   ]
  },
  {
   "cell_type": "code",
   "execution_count": 9,
   "metadata": {
    "collapsed": false,
    "scrolled": true
   },
   "outputs": [
    {
     "name": "stderr",
     "output_type": "stream",
     "text": [
      "C:\\Anaconda3\\lib\\site-packages\\matplotlib\\backend_bases.py:2435: MatplotlibDeprecationWarning: Using default event loop until function specific to this GUI is implemented\n",
      "  warnings.warn(str, mplDeprecation)\n"
     ]
    },
    {
     "ename": "KeyboardInterrupt",
     "evalue": "",
     "output_type": "error",
     "traceback": [
      "\u001b[1;31m---------------------------------------------------------------------------\u001b[0m",
      "\u001b[1;31mKeyboardInterrupt\u001b[0m                         Traceback (most recent call last)",
      "\u001b[1;32m<ipython-input-9-23022e18cb1d>\u001b[0m in \u001b[0;36m<module>\u001b[1;34m()\u001b[0m\n\u001b[1;32m----> 1\u001b[1;33m \u001b[0mmh\u001b[0m\u001b[1;33m.\u001b[0m\u001b[0mplay\u001b[0m\u001b[1;33m(\u001b[0m\u001b[1;33m)\u001b[0m\u001b[1;33m\u001b[0m\u001b[0m\n\u001b[0m",
      "\u001b[1;32m<ipython-input-7-f0234bf74966>\u001b[0m in \u001b[0;36mplay\u001b[1;34m(self, rate)\u001b[0m\n\u001b[0;32m     50\u001b[0m             \u001b[1;32melse\u001b[0m\u001b[1;33m:\u001b[0m\u001b[1;33m\u001b[0m\u001b[0m\n\u001b[0;32m     51\u001b[0m                 \u001b[0mimg\u001b[0m\u001b[1;33m.\u001b[0m\u001b[0mset_data\u001b[0m\u001b[1;33m(\u001b[0m\u001b[0mfr\u001b[0m\u001b[1;33m)\u001b[0m\u001b[1;33m\u001b[0m\u001b[0m\n\u001b[1;32m---> 52\u001b[1;33m             \u001b[0mplt\u001b[0m\u001b[1;33m.\u001b[0m\u001b[0mpause\u001b[0m\u001b[1;33m(\u001b[0m\u001b[1;36m1.\u001b[0m\u001b[1;33m/\u001b[0m\u001b[0mrate\u001b[0m\u001b[1;33m)\u001b[0m\u001b[1;33m\u001b[0m\u001b[0m\n\u001b[0m\u001b[0;32m     53\u001b[0m             \u001b[0mplt\u001b[0m\u001b[1;33m.\u001b[0m\u001b[0mdraw\u001b[0m\u001b[1;33m(\u001b[0m\u001b[1;33m)\u001b[0m\u001b[1;33m\u001b[0m\u001b[0m\n\u001b[0;32m     54\u001b[0m \u001b[1;33m\u001b[0m\u001b[0m\n",
      "\u001b[1;32mC:\\Anaconda3\\lib\\site-packages\\matplotlib\\pyplot.py\u001b[0m in \u001b[0;36mpause\u001b[1;34m(interval)\u001b[0m\n\u001b[0;32m    289\u001b[0m                 \u001b[0mcanvas\u001b[0m\u001b[1;33m.\u001b[0m\u001b[0mdraw\u001b[0m\u001b[1;33m(\u001b[0m\u001b[1;33m)\u001b[0m\u001b[1;33m\u001b[0m\u001b[0m\n\u001b[0;32m    290\u001b[0m             \u001b[0mshow\u001b[0m\u001b[1;33m(\u001b[0m\u001b[0mblock\u001b[0m\u001b[1;33m=\u001b[0m\u001b[1;32mFalse\u001b[0m\u001b[1;33m)\u001b[0m\u001b[1;33m\u001b[0m\u001b[0m\n\u001b[1;32m--> 291\u001b[1;33m             \u001b[0mcanvas\u001b[0m\u001b[1;33m.\u001b[0m\u001b[0mstart_event_loop\u001b[0m\u001b[1;33m(\u001b[0m\u001b[0minterval\u001b[0m\u001b[1;33m)\u001b[0m\u001b[1;33m\u001b[0m\u001b[0m\n\u001b[0m\u001b[0;32m    292\u001b[0m             \u001b[1;32mreturn\u001b[0m\u001b[1;33m\u001b[0m\u001b[0m\n\u001b[0;32m    293\u001b[0m \u001b[1;33m\u001b[0m\u001b[0m\n",
      "\u001b[1;32mC:\\Anaconda3\\lib\\site-packages\\matplotlib\\backends\\backend_qt5.py\u001b[0m in \u001b[0;36mstart_event_loop\u001b[1;34m(self, timeout)\u001b[0m\n\u001b[0;32m    405\u001b[0m \u001b[1;33m\u001b[0m\u001b[0m\n\u001b[0;32m    406\u001b[0m     \u001b[1;32mdef\u001b[0m \u001b[0mstart_event_loop\u001b[0m\u001b[1;33m(\u001b[0m\u001b[0mself\u001b[0m\u001b[1;33m,\u001b[0m \u001b[0mtimeout\u001b[0m\u001b[1;33m)\u001b[0m\u001b[1;33m:\u001b[0m\u001b[1;33m\u001b[0m\u001b[0m\n\u001b[1;32m--> 407\u001b[1;33m         \u001b[0mFigureCanvasBase\u001b[0m\u001b[1;33m.\u001b[0m\u001b[0mstart_event_loop_default\u001b[0m\u001b[1;33m(\u001b[0m\u001b[0mself\u001b[0m\u001b[1;33m,\u001b[0m \u001b[0mtimeout\u001b[0m\u001b[1;33m)\u001b[0m\u001b[1;33m\u001b[0m\u001b[0m\n\u001b[0m\u001b[0;32m    408\u001b[0m \u001b[1;33m\u001b[0m\u001b[0m\n\u001b[0;32m    409\u001b[0m     \u001b[0mstart_event_loop\u001b[0m\u001b[1;33m.\u001b[0m\u001b[0m__doc__\u001b[0m \u001b[1;33m=\u001b[0m\u001b[0;31m \u001b[0m\u001b[0;31m\\\u001b[0m\u001b[1;33m\u001b[0m\u001b[0m\n",
      "\u001b[1;32mC:\\Anaconda3\\lib\\site-packages\\matplotlib\\backend_bases.py\u001b[0m in \u001b[0;36mstart_event_loop_default\u001b[1;34m(self, timeout)\u001b[0m\n\u001b[0;32m   2442\u001b[0m         \u001b[1;32mwhile\u001b[0m \u001b[0mself\u001b[0m\u001b[1;33m.\u001b[0m\u001b[0m_looping\u001b[0m \u001b[1;32mand\u001b[0m \u001b[0mcounter\u001b[0m \u001b[1;33m*\u001b[0m \u001b[0mtimestep\u001b[0m \u001b[1;33m<\u001b[0m \u001b[0mtimeout\u001b[0m\u001b[1;33m:\u001b[0m\u001b[1;33m\u001b[0m\u001b[0m\n\u001b[0;32m   2443\u001b[0m             \u001b[0mself\u001b[0m\u001b[1;33m.\u001b[0m\u001b[0mflush_events\u001b[0m\u001b[1;33m(\u001b[0m\u001b[1;33m)\u001b[0m\u001b[1;33m\u001b[0m\u001b[0m\n\u001b[1;32m-> 2444\u001b[1;33m             \u001b[0mtime\u001b[0m\u001b[1;33m.\u001b[0m\u001b[0msleep\u001b[0m\u001b[1;33m(\u001b[0m\u001b[0mtimestep\u001b[0m\u001b[1;33m)\u001b[0m\u001b[1;33m\u001b[0m\u001b[0m\n\u001b[0m\u001b[0;32m   2445\u001b[0m             \u001b[0mcounter\u001b[0m \u001b[1;33m+=\u001b[0m \u001b[1;36m1\u001b[0m\u001b[1;33m\u001b[0m\u001b[0m\n\u001b[0;32m   2446\u001b[0m \u001b[1;33m\u001b[0m\u001b[0m\n",
      "\u001b[1;31mKeyboardInterrupt\u001b[0m: "
     ]
    }
   ],
   "source": [
    "mh.play()"
   ]
  },
  {
   "cell_type": "code",
   "execution_count": 1,
   "metadata": {
    "collapsed": false
   },
   "outputs": [
    {
     "name": "stdout",
     "output_type": "stream",
     "text": [
      "Python 3_5 is not supported.\n",
      "Can't make spectrograms because Matlab engine not compatible. Try using Python 3.4.\n"
     ]
    }
   ],
   "source": [
    "import numpy as np\n",
    "import mid"
   ]
  },
  {
   "cell_type": "code",
   "execution_count": 121,
   "metadata": {
    "collapsed": false
   },
   "outputs": [
    {
     "data": {
      "text/plain": [
       "<module 'mid' from 'C:\\\\Users\\\\Eric\\\\Documents\\\\Berkeley\\\\Research\\\\Neuroscience\\\\DeWeese_Lab_analysis\\\\mymid\\\\MID\\\\mid.py'>"
      ]
     },
     "execution_count": 121,
     "metadata": {},
     "output_type": "execute_result"
    }
   ],
   "source": [
    "from imp import reload\n",
    "reload(mid)"
   ]
  },
  {
   "cell_type": "code",
   "execution_count": 22,
   "metadata": {
    "collapsed": false
   },
   "outputs": [
    {
     "name": "stdout",
     "output_type": "stream",
     "text": [
      "Specialized initialization failed. Falling back on first stimulus.\n"
     ]
    }
   ],
   "source": [
    "anmid = mid.MID(handler=mh)"
   ]
  },
  {
   "cell_type": "code",
   "execution_count": 39,
   "metadata": {
    "collapsed": false,
    "scrolled": true
   },
   "outputs": [
    {
     "name": "stdout",
     "output_type": "stream",
     "text": [
      "Info             Gradient norm\n",
      "0.644174259362  5.85793208946\n",
      "0.644146930621  5.85479589933\n",
      "0.644441098891  5.84688544667\n",
      "0.644679063  5.84813821417\n",
      "0.644500196091  5.83644223234\n",
      "0.644529629331  5.83306223581\n",
      "0.644343635146  5.82840801544\n",
      "0.644805631209  5.83644166373\n",
      "0.645026340491  5.84722909784\n",
      "0.644763993589  5.82797676494\n",
      "0.645242372362  5.84074541769\n",
      "0.644846082974  5.81160225378\n",
      "0.645502832802  5.85673062338\n",
      "0.645206715995  5.83848536091\n",
      "0.645648391992  5.85874941012\n",
      "0.645610100775  5.85419850518\n",
      "0.645337898515  5.82332963789\n",
      "0.646151412088  5.83982099651\n",
      "0.645620316393  5.82991029024\n",
      "0.646568857457  5.85177734683\n",
      "0.646142141474  5.82965258383\n",
      "0.647243286943  5.85656891911\n",
      "0.647540247893  5.8602872292\n",
      "0.647634571004  5.86036993133\n",
      "0.646808027907  5.8306724738\n",
      "0.647879929938  5.8577980335\n",
      "0.647910764268  5.85208500811\n",
      "0.647751795076  5.842114405\n",
      "0.64742906052  5.82443552425\n",
      "0.648048732425  5.83980094534\n",
      "0.647993480596  5.83157669404\n",
      "0.648053166782  5.83213321594\n",
      "0.648310065359  5.81661176546\n",
      "0.647878302795  5.79805856536\n",
      "0.648545870679  5.80329040872\n",
      "0.648716726205  5.79218722165\n",
      "0.648572957016  5.77803896699\n",
      "0.649098986025  5.79089477306\n",
      "0.649078831168  5.78830418079\n",
      "0.649106936488  5.78321840039\n",
      "0.64930723961  5.80105681787\n",
      "0.649253445212  5.79745972804\n",
      "0.648963020456  5.78579968896\n",
      "0.648568611163  5.76496861428\n",
      "0.649208112972  5.80004761394\n",
      "0.649200724169  5.78482737955\n",
      "0.649025991328  5.7848406732\n",
      "0.649301258155  5.78639717037\n",
      "0.649072141975  5.77260913993\n",
      "0.649020507955  5.79365341637\n",
      "0.649697651143  5.81923675664\n",
      "0.649379700311  5.78115962789\n",
      "0.650089950595  5.78893727903\n",
      "0.650180939725  5.80683735481\n",
      "0.651450552533  5.86009888032\n",
      "0.651131627362  5.85769752587\n",
      "0.651399461457  5.83294539643\n",
      "0.651009919826  5.81174124637\n",
      "0.651318978673  5.82224465626\n",
      "0.651309695603  5.81693340595\n",
      "0.650897691731  5.8531034535\n",
      "0.651539445258  5.85826336081\n",
      "0.651595564697  5.86471535805\n",
      "0.651711551436  5.85484664309\n",
      "0.651994644018  5.86127509081\n",
      "0.652034752806  5.86335625766\n",
      "0.652006678063  5.87538633984\n",
      "0.652166631424  5.88117619541\n",
      "0.652152806651  5.87944100485\n",
      "0.652359451144  5.8698429597\n",
      "0.652934834008  5.87686120501\n",
      "0.652514693803  5.86603519653\n",
      "0.653550434221  5.90676436505\n",
      "0.653060138116  5.87600745529\n",
      "0.653409714299  5.88083076288\n",
      "0.652943983749  5.85993507767\n",
      "0.653751244631  5.89316697982\n",
      "0.653807295109  5.87123852771\n",
      "0.653835929878  5.8667144193\n",
      "0.653756017595  5.87457140889\n",
      "0.65393557709  5.87208975112\n",
      "0.654526475283  5.88517849136\n",
      "0.654232830109  5.8632400322\n",
      "0.654126964895  5.8576055552\n",
      "0.654850106755  5.87497862452\n",
      "0.654289646922  5.85893150274\n",
      "0.655438105291  5.90677978378\n",
      "0.654881569904  5.89164873087\n",
      "0.655625612282  5.91632273995\n",
      "0.65520495002  5.8897842185\n",
      "0.655618324026  5.88413722579\n",
      "0.656313099446  5.87966049619\n",
      "0.656191003016  5.86988768087\n",
      "0.657370469662  5.92425291957\n",
      "0.656612365412  5.89400419873\n",
      "0.65699572507  5.96750522009\n",
      "0.657252115285  5.90394535016\n",
      "0.657843662862  5.91099432339\n",
      "0.657627556178  5.89873446598\n",
      "0.657887391356  5.91315408638\n",
      "0.657887391356  5.91315408638\n",
      "Did not converge to desired precision.\n"
     ]
    }
   ],
   "source": [
    "res = anmid.optimize('GA', rate=1e-4,maxiter=100)"
   ]
  },
  {
   "cell_type": "code",
   "execution_count": 40,
   "metadata": {
    "collapsed": true
   },
   "outputs": [],
   "source": [
    "mh.show_strf(anmid.v)"
   ]
  },
  {
   "cell_type": "code",
   "execution_count": 41,
   "metadata": {
    "collapsed": false
   },
   "outputs": [],
   "source": [
    "plt.show()"
   ]
  },
  {
   "cell_type": "code",
   "execution_count": 53,
   "metadata": {
    "collapsed": false
   },
   "outputs": [],
   "source": [
    "anmid.v =prettygood"
   ]
  },
  {
   "cell_type": "code",
   "execution_count": 5,
   "metadata": {
    "collapsed": false
   },
   "outputs": [],
   "source": [
    "class TestHandler:\n",
    "    def __init__(self, datasize=5, ndata=1e5):\n",
    "        self.nstim = int(ndata)\n",
    "        self.stimshape = (datasize,)\n",
    "        self.data = np.random.randn(self.nstim,datasize)\n",
    "        self.data = self.data/np.sqrt(np.sum(self.data**2,1))[:,np.newaxis]\n",
    "        self.generate_spiketrain()\n",
    "        \n",
    "    def spikerate(self, stim):\n",
    "        proj1 = stim[0]\n",
    "        #proj2 = stim[1]\n",
    "        #return np.mean([proj1**2,proj2**2])\n",
    "        return proj1**2    \n",
    "        \n",
    "    def get_nstim(self):\n",
    "        return self.nstim\n",
    "        \n",
    "    def generate_spiketrain(self):\n",
    "        ndata = self.nstim\n",
    "        self.spiketrain = np.zeros((ndata))\n",
    "        for point in range(ndata):\n",
    "            rate = self.spikerate(self.data[point])\n",
    "            rate = rate if rate>0 else 0\n",
    "            self.spiketrain[point] = np.random.binomial(1,rate)\n",
    "                           \n",
    "    def generator(self):\n",
    "        for stim, spike in zip(self.data, self.spiketrain):\n",
    "            yield stim, spike\n",
    "            \n",
    "    def rand_stimresp(self, nstims=100):\n",
    "        stimuli = np.zeros((nstims,self.data.shape[-1]))\n",
    "        responses = np.zeros((nstims))\n",
    "        for ii in range(nstims):\n",
    "            which = np.random.choice(self.nstim)\n",
    "            stimuli[ii] = self.data[which]\n",
    "            responses[ii] = self.spiketrain[which]\n",
    "        return stimuli, responses"
   ]
  },
  {
   "cell_type": "code",
   "execution_count": 6,
   "metadata": {
    "collapsed": false
   },
   "outputs": [],
   "source": [
    "th = TestHandler(datasize=1000, ndata=1e5)"
   ]
  },
  {
   "cell_type": "code",
   "execution_count": 7,
   "metadata": {
    "collapsed": false
   },
   "outputs": [],
   "source": [
    "testmid = mid.MID(handler=th, ndim=1, nbins=10)"
   ]
  },
  {
   "cell_type": "code",
   "execution_count": 8,
   "metadata": {
    "collapsed": false
   },
   "outputs": [
    {
     "data": {
      "text/plain": [
       "(0.091464536388199444,\n",
       " array([[  5.13295585e-02,   1.17330032e-02,  -3.58049845e-03,\n",
       "          -1.38633553e-02,   1.20385683e-02,  -2.79592122e-02,\n",
       "          -1.81099411e-02,  -2.19709954e-02,   2.06826376e-02,\n",
       "          -1.69270216e-02,  -2.77074206e-02,  -1.79649819e-03,\n",
       "           5.39313417e-02,  -1.39974090e-02,  -7.34372822e-02,\n",
       "           2.27985399e-02,  -3.57033533e-02,  -1.84019482e-02,\n",
       "          -7.04058177e-02,  -2.60382496e-02,   6.41288540e-02,\n",
       "           1.28755801e-02,  -4.04943398e-02,  -4.79651689e-02,\n",
       "          -4.95212479e-02,  -4.14394313e-02,   7.76272957e-03,\n",
       "           5.22999299e-04,   9.93394034e-03,   5.33891806e-02,\n",
       "          -8.32327989e-02,  -1.77718357e-02,  -6.75257539e-02,\n",
       "          -2.73197590e-02,  -1.17204386e-01,  -1.69924011e-02,\n",
       "          -3.38868762e-03,  -9.92071768e-02,   3.08684213e-02,\n",
       "           1.29342660e-02,  -1.74398995e-02,  -2.89793605e-02,\n",
       "          -5.73630093e-02,   6.13502993e-03,   4.44186987e-02,\n",
       "           1.04325397e-02,   1.45690343e-02,   3.23922037e-02,\n",
       "           1.41822129e-02,  -2.37640446e-02,   5.66722402e-02,\n",
       "          -3.88984137e-02,   4.44844445e-02,  -1.30483200e-02,\n",
       "          -4.03189652e-02,   5.98143048e-02,  -4.66020756e-02,\n",
       "           1.17231205e-01,   8.70006843e-02,  -3.82838421e-02,\n",
       "           6.79359113e-02,   1.54096315e-02,   2.97044369e-02,\n",
       "          -4.72734405e-02,   4.17208376e-03,  -3.05558130e-02,\n",
       "           2.30896762e-02,   3.66571781e-02,   2.10877333e-03,\n",
       "           4.14443678e-02,  -2.54484032e-02,  -6.93794419e-02,\n",
       "          -1.58697583e-02,  -4.18226343e-02,   6.53706445e-03,\n",
       "           4.47762590e-02,   8.81385216e-02,   1.86548510e-02,\n",
       "           3.35200862e-02,  -7.60102743e-02,  -4.99716337e-02,\n",
       "           2.34678880e-02,  -3.35125755e-02,   1.99542627e-02,\n",
       "           3.70486614e-03,   2.80766487e-02,  -6.50659550e-02,\n",
       "           5.00355698e-02,  -1.14568304e-01,  -3.70486496e-02,\n",
       "           6.13678142e-02,   4.09247850e-02,   1.43608646e-02,\n",
       "           7.06157672e-02,  -1.69021509e-02,   6.00034128e-03,\n",
       "           6.45582442e-02,   5.75175719e-02,  -2.37490905e-03,\n",
       "          -1.90519092e-02,  -1.18543139e-02,  -5.03334065e-02,\n",
       "          -1.40683988e-03,   2.90563662e-02,   3.84601294e-02,\n",
       "           2.95570313e-02,   5.10161479e-02,  -5.75721423e-02,\n",
       "           5.87428252e-02,  -1.75166674e-02,  -1.46211970e-02,\n",
       "           3.40265067e-02,  -4.58090131e-02,   3.16892856e-02,\n",
       "           6.80153760e-02,   5.90221821e-02,   1.43463411e-02,\n",
       "           3.17100082e-02,  -5.87010939e-03,  -1.86248303e-02,\n",
       "           4.09376144e-03,   1.17724622e-02,  -1.43979509e-02,\n",
       "           2.08130627e-02,   4.23070580e-02,  -1.87786352e-02,\n",
       "          -8.42816990e-03,  -2.45234208e-03,   6.05448111e-02,\n",
       "           1.33248149e-02,  -2.60494906e-02,   2.14007453e-02,\n",
       "           4.66496560e-02,  -9.43589388e-02,   6.27791688e-02,\n",
       "          -3.90134061e-02,   2.72607527e-02,  -5.73039656e-02,\n",
       "          -1.27251635e-02,   6.06054420e-02,  -4.81827950e-03,\n",
       "           3.77482486e-02,   1.03270480e-01,  -4.64972449e-02,\n",
       "           5.22288350e-02,   3.59676589e-02,   8.17250031e-03,\n",
       "           3.33969734e-02,  -4.76006514e-02,  -1.16945771e-02,\n",
       "           5.59763812e-02,   7.20084064e-02,  -4.62663934e-02,\n",
       "          -5.22015452e-02,  -5.02298512e-03,   4.20983892e-02,\n",
       "           6.55764780e-02,  -1.57193818e-02,   8.04144131e-03,\n",
       "          -5.41500997e-02,   2.95361063e-02,  -3.74853742e-02,\n",
       "          -5.04934953e-03,   2.33435167e-02,   7.46449706e-03,\n",
       "           5.24296159e-02,  -2.05346604e-03,  -4.99881316e-02,\n",
       "           4.99165408e-02,  -1.39383851e-02,   8.87132964e-03,\n",
       "          -2.36347522e-02,  -2.00751049e-02,  -3.24343925e-02,\n",
       "           6.76741042e-02,   1.27496758e-02,  -1.84536143e-02,\n",
       "           8.57968811e-02,   2.08111251e-02,  -7.50730714e-03,\n",
       "           5.48599413e-02,   9.14609104e-02,  -7.19235695e-02,\n",
       "           2.18377854e-02,   3.41134893e-02,   1.99842110e-02,\n",
       "          -5.55509323e-02,  -1.25517363e-02,   1.98221078e-02,\n",
       "          -3.72592885e-02,  -4.00937490e-02,   4.31055614e-03,\n",
       "          -5.80364471e-02,   1.38622509e-02,  -4.05063356e-03,\n",
       "          -5.36615585e-02,   4.04245142e-02,  -1.16592436e-02,\n",
       "           2.47443394e-03,   5.89053423e-02,   1.04601869e-01,\n",
       "           2.16010743e-02,  -2.10382213e-04,  -1.46253638e-03,\n",
       "           8.17794724e-02,   7.52632195e-03,  -1.20690137e-03,\n",
       "          -3.62335469e-02,   1.85942930e-02,   1.01563882e-02,\n",
       "          -4.37955143e-02,  -2.50929353e-02,  -3.14986607e-02,\n",
       "          -9.04889784e-03,   4.76737154e-02,  -1.60757207e-02,\n",
       "           3.62759608e-03,   2.15821696e-02,   7.49740306e-03,\n",
       "          -2.59988386e-02,  -4.67349928e-02,  -1.54424821e-02,\n",
       "           4.13612225e-02,   1.20573658e-01,   1.73953362e-02,\n",
       "           7.10945807e-02,  -1.20617900e-02,  -3.93850442e-02,\n",
       "          -5.02994953e-02,  -7.97056341e-02,  -3.41780779e-02,\n",
       "           6.00343943e-02,  -4.33301027e-02,   1.79262941e-02,\n",
       "          -2.89683011e-02,  -1.96440826e-03,  -5.71008189e-02,\n",
       "          -1.03746558e-02,  -6.62294248e-02,   1.09344172e-02,\n",
       "           3.48944721e-02,   5.76719823e-03,   5.56281349e-02,\n",
       "           5.88444925e-02,  -2.25233356e-02,  -5.70110818e-02,\n",
       "           1.58976077e-03,   1.39687568e-02,  -6.18283103e-02,\n",
       "          -5.70522089e-02,  -8.86588337e-02,   2.30030147e-02,\n",
       "           5.23563504e-02,   1.47705163e-02,   8.95370141e-03,\n",
       "           1.64315915e-02,   3.86062689e-02,   6.15784710e-02,\n",
       "           3.42985212e-02,   1.36186113e-02,   1.68558173e-02,\n",
       "          -2.99434786e-02,   6.45789066e-02,   5.05387081e-02,\n",
       "          -6.45598657e-02,   5.51055073e-02,   5.85855868e-02,\n",
       "          -5.60222131e-03,  -1.33631422e-02,  -2.01232076e-02,\n",
       "          -6.27128598e-02,  -4.96368888e-02,   6.60393113e-02,\n",
       "          -1.41621883e-02,  -2.29845388e-02,   1.26106148e-01,\n",
       "           5.18803612e-02,   4.30230860e-02,  -1.40436852e-02,\n",
       "          -5.95998558e-03,   1.57729053e-03,   2.94166980e-03,\n",
       "          -3.81991269e-03,   1.15535364e-02,  -3.32692130e-02,\n",
       "           1.11555438e-02,  -6.61034670e-02,  -2.10437249e-02,\n",
       "          -2.89748293e-02,   2.49585983e-02,   1.00723723e-01,\n",
       "           8.00468120e-02,   9.12033022e-03,   9.76796879e-03,\n",
       "          -6.16474905e-02,  -5.29944252e-02,  -6.84459175e-02,\n",
       "           9.64058396e-02,   1.05360089e-01,  -4.50408878e-02,\n",
       "           7.65207654e-03,   5.17543570e-02,  -1.42991442e-02,\n",
       "          -2.96009906e-02,  -7.04586592e-02,  -1.80634251e-02,\n",
       "           1.66973340e-02,  -9.95589119e-02,   4.48908464e-02,\n",
       "          -1.13888234e-02,   4.79000533e-02,   8.35848468e-02,\n",
       "          -5.95176276e-02,  -2.19985098e-02,  -1.05170925e-01,\n",
       "          -2.97880071e-02,  -1.42868453e-02,  -1.57147997e-02,\n",
       "          -7.31982905e-02,  -3.18671988e-02,   3.63223530e-03,\n",
       "          -3.64609069e-02,  -5.91784743e-02,   1.39431683e-02,\n",
       "          -4.94943243e-03,   8.70231767e-02,  -1.02741010e-03,\n",
       "           3.60377025e-02,   4.28432380e-02,  -1.03310985e-02,\n",
       "          -4.02605135e-02,  -7.25769238e-02,  -1.29201096e-01,\n",
       "          -4.09726396e-02,   3.36384268e-02,  -1.85761786e-02,\n",
       "          -5.41179464e-02,  -3.12093101e-02,  -5.53688662e-02,\n",
       "          -1.30785208e-02,   1.58149713e-02,  -1.76349670e-02,\n",
       "          -3.73409595e-03,  -3.74610827e-02,  -2.41050191e-02,\n",
       "          -3.35691165e-02,  -3.46782064e-03,   8.11684062e-02,\n",
       "           1.62474780e-02,   3.91954100e-02,  -3.76125426e-02,\n",
       "           1.79221419e-02,  -8.49769231e-02,   5.33986445e-02,\n",
       "          -6.10350982e-03,  -7.93776127e-02,  -4.13430761e-03,\n",
       "           7.35704984e-02,  -1.52549957e-02,   2.63721720e-02,\n",
       "           1.02160958e-01,   1.76144585e-02,   5.76177606e-02,\n",
       "          -3.84107725e-02,   5.47537893e-03,  -6.52335747e-02,\n",
       "          -4.09356027e-02,   6.14853022e-02,  -4.62525816e-02,\n",
       "          -1.40634516e-02,   5.72302276e-02,  -1.08152819e-02,\n",
       "          -5.85403871e-02,   2.73527626e-02,  -3.59128674e-02,\n",
       "          -4.51418470e-02,  -1.09659195e-01,  -7.82938607e-02,\n",
       "           1.71612113e-02,   2.43917708e-02,  -1.07098022e-02,\n",
       "           8.81934525e-02,   1.29974379e-02,   4.08487425e-02,\n",
       "          -8.42715019e-03,  -3.52057946e-02,  -1.01286462e-02,\n",
       "          -9.86374934e-04,  -4.29872720e-03,   1.78787775e-03,\n",
       "           1.37874778e-02,   2.78519665e-02,   3.17736641e-02,\n",
       "           3.56596615e-02,   1.57023479e-02,   3.52346140e-02,\n",
       "           1.57358357e-02,  -5.61946828e-02,  -3.82631553e-02,\n",
       "           3.29963351e-02,   5.84307497e-02,   9.19591320e-02,\n",
       "           4.40041587e-03,  -8.68842215e-02,  -2.45731697e-03,\n",
       "          -3.94583915e-03,  -7.07522323e-02,  -8.13420379e-02,\n",
       "          -3.32163053e-02,  -2.99131323e-02,  -4.71783115e-02,\n",
       "          -2.74600498e-02,   5.65428649e-03,  -4.61530347e-02,\n",
       "           4.96664419e-02,   2.07636536e-02,   3.17309147e-02,\n",
       "          -4.11909175e-03,   3.31239629e-03,  -2.28818663e-02,\n",
       "           1.90281664e-02,  -1.29296063e-02,  -2.14598204e-02,\n",
       "           2.72092263e-02,  -4.17167152e-02,   3.18879293e-02,\n",
       "           1.77854691e-02,   4.80484748e-02,  -3.20862643e-02,\n",
       "          -5.51580747e-02,   7.55982639e-02,   2.42292510e-02,\n",
       "          -1.89079342e-02,   4.89103870e-03,  -4.12830965e-02,\n",
       "           5.40168695e-02,  -8.02669934e-02,  -5.47485184e-02,\n",
       "          -6.47291999e-02,  -4.48874521e-02,  -4.31352905e-02,\n",
       "          -5.70473082e-04,   1.48532170e-03,   3.43162577e-02,\n",
       "           2.48119645e-02,  -4.02517475e-03,  -1.00756229e-02,\n",
       "           9.10055262e-02,   2.53902204e-02,  -2.64967029e-02,\n",
       "          -9.03235562e-02,   1.71899552e-02,  -1.28346167e-01,\n",
       "           3.32102866e-02,   3.68937145e-02,  -1.16656711e-01,\n",
       "           3.76791099e-02,   1.56295540e-02,   1.27428290e-01,\n",
       "          -4.29250640e-02,  -6.84343482e-03,  -5.58017450e-02,\n",
       "           2.59841438e-02,  -2.16692367e-02,  -5.64594275e-03,\n",
       "          -5.74768655e-02,  -3.46019210e-03,   1.04093435e-02,\n",
       "           1.27044937e-02,   7.42795720e-03,  -7.01708867e-02,\n",
       "           3.90929360e-02,  -5.09391698e-03,  -3.43487618e-03,\n",
       "          -1.76197799e-02,   4.46024964e-02,  -5.31772950e-02,\n",
       "          -6.68658373e-02,  -3.54719178e-02,   3.61695251e-02,\n",
       "           5.01104966e-02,  -6.86499510e-02,   8.02076925e-03,\n",
       "          -2.12086592e-02,  -2.48739812e-02,   1.58167077e-02,\n",
       "          -1.82852339e-02,   2.42637231e-02,  -4.43381880e-02,\n",
       "          -1.44202498e-02,   2.70822386e-02,  -1.19904064e-02,\n",
       "           6.34908718e-02,   9.21428348e-03,  -6.95958984e-02,\n",
       "           5.88993035e-02,  -3.34922353e-02,  -5.05081753e-03,\n",
       "           8.73538252e-04,   1.55010999e-02,  -9.22776767e-03,\n",
       "           1.10347531e-01,   4.51098164e-03,  -9.19455186e-02,\n",
       "          -5.79067907e-02,   3.74216098e-02,  -5.66439295e-02,\n",
       "          -6.95749123e-03,   4.35860476e-02,   2.87162573e-02,\n",
       "           5.21018942e-02,  -1.71120878e-02,   2.47144597e-02,\n",
       "          -6.58457556e-03,  -2.03708385e-02,   5.62619631e-02,\n",
       "           1.55893735e-02,  -5.91245543e-02,  -9.85778160e-02,\n",
       "           6.50311474e-03,   3.64048215e-02,   2.65268291e-03,\n",
       "          -2.53935558e-02,   5.03247079e-02,   2.53387741e-02,\n",
       "          -3.18512544e-02,  -6.50201009e-02,  -7.85411801e-02,\n",
       "          -4.59297322e-02,   3.25258176e-03,   7.60551209e-02,\n",
       "           4.17405836e-02,  -1.22719096e-01,  -3.30234856e-02,\n",
       "           2.81212922e-02,  -3.64983845e-02,  -1.45754556e-02,\n",
       "          -8.28847284e-02,  -3.22998723e-03,  -3.62628331e-02,\n",
       "          -6.50618028e-02,  -4.17306766e-03,   2.64437635e-02,\n",
       "           7.93247353e-02,   4.80175384e-02,   3.06431818e-02,\n",
       "           1.75893491e-02,  -4.87414580e-02,  -1.12900363e-02,\n",
       "          -2.25949963e-02,   8.78234688e-04,  -3.19415771e-02,\n",
       "          -6.36975143e-02,   5.65973906e-02,  -3.20831584e-02,\n",
       "           7.44698160e-03,   3.03826327e-02,  -4.29543506e-02,\n",
       "          -3.59784213e-03,   4.38781441e-02,   3.60994819e-03,\n",
       "          -3.68801868e-02,   7.18195034e-02,  -4.78911266e-02,\n",
       "           2.62839333e-02,  -3.93171752e-02,   3.34055150e-02,\n",
       "          -3.44793992e-02,   4.52744612e-02,  -4.17964190e-03,\n",
       "           2.88212389e-02,  -3.66035891e-02,  -2.62015305e-02,\n",
       "           5.82889266e-02,   5.73849654e-02,  -1.70901836e-02,\n",
       "          -4.17133018e-02,   4.57162530e-02,  -1.79444461e-03,\n",
       "           4.37913579e-03,  -5.04249687e-04,  -2.69667238e-02,\n",
       "          -5.26216830e-02,   7.55431680e-02,  -2.57780228e-02,\n",
       "           3.15379276e-02,  -2.41917474e-02,   9.31528366e-02,\n",
       "           1.43443837e-02,   8.54670508e-02,  -6.68962906e-02,\n",
       "           4.93076527e-02,   7.00784772e-03,   6.64651584e-02,\n",
       "          -1.08524085e-01,   7.82182631e-03,  -3.68932786e-02,\n",
       "           1.17184481e-01,   7.02944071e-02,  -1.27880568e-02,\n",
       "          -6.60442791e-02,   4.98088813e-02,   1.42437690e-02,\n",
       "          -6.37042074e-03,  -6.60749204e-02,  -2.89461556e-02,\n",
       "          -1.76361149e-02,  -6.32674955e-03,   5.08350168e-02,\n",
       "          -4.76833086e-02,  -9.13622704e-02,  -2.63307427e-02,\n",
       "           2.61327364e-02,  -4.90245796e-03,   8.34225762e-02,\n",
       "          -9.40588204e-03,  -8.40647925e-02,  -2.22350350e-03,\n",
       "          -1.32108800e-04,  -6.48321614e-02,  -9.98425540e-02,\n",
       "           8.38352176e-02,  -3.53605578e-02,   9.29186453e-03,\n",
       "           1.54344746e-02,   3.68726858e-02,  -2.48264107e-02,\n",
       "          -5.20461743e-02,  -1.06198563e-01,   6.32908104e-02,\n",
       "           3.11709220e-02,   5.60158173e-04,   6.61910192e-02,\n",
       "           6.02595471e-02,  -2.36793867e-02,   7.62281282e-02,\n",
       "          -1.44178696e-02,   4.63228953e-02,  -3.85341318e-02,\n",
       "           9.18761190e-03,  -3.59498158e-02,  -3.82028299e-02,\n",
       "          -5.57448437e-02,   2.56242518e-02,  -5.33357404e-02,\n",
       "           3.83800496e-02,  -2.90000263e-02,  -8.96085226e-02,\n",
       "          -4.61885615e-03,  -1.55926407e-02,   4.86757861e-02,\n",
       "          -8.87459601e-03,   7.57274475e-02,  -1.12465521e-02,\n",
       "           1.80396579e-02,  -1.76990222e-02,   4.31012980e-02,\n",
       "          -6.17870033e-02,   3.27390450e-02,   1.00042687e-01,\n",
       "           1.93222877e-02,   1.01083910e-01,  -4.23916288e-02,\n",
       "           5.72073530e-02,  -2.36282862e-02,   3.35467685e-02,\n",
       "          -8.20443613e-02,   3.39785965e-02,   2.48222808e-02,\n",
       "           1.63507653e-02,  -7.55817295e-02,   1.41507737e-02,\n",
       "           5.62497883e-02,  -5.45477494e-03,  -2.44840968e-03,\n",
       "           1.67163081e-02,   5.17125872e-02,   3.85846751e-02,\n",
       "           5.70834179e-02,   8.33474451e-02,   4.49970901e-02,\n",
       "           2.74662140e-02,  -6.66152446e-02,   5.24263942e-03,\n",
       "          -3.97851106e-02,   7.32554023e-02,  -6.01682292e-02,\n",
       "          -7.92848736e-03,   3.41760785e-02,   6.87012279e-03,\n",
       "          -2.61039298e-02,   1.85053827e-02,  -6.81085166e-02,\n",
       "          -3.66817201e-04,   4.08416003e-02,  -3.88933412e-02,\n",
       "           3.69031728e-04,  -8.07726951e-02,   8.44101624e-03,\n",
       "          -2.85950549e-02,   1.20414009e-02,   7.15687669e-02,\n",
       "           2.13991356e-04,  -3.99035374e-02,   4.73938688e-02,\n",
       "           6.46790849e-02,   6.68953514e-02,  -2.11393966e-03,\n",
       "          -2.21920316e-02,   2.56434459e-02,   2.18990399e-02,\n",
       "          -1.77194686e-02,  -4.91350553e-02,   5.48113945e-02,\n",
       "          -4.24348865e-04,  -5.51598241e-02,   6.82159450e-03,\n",
       "           3.97098733e-03,   3.22957140e-02,   6.29820271e-02,\n",
       "          -8.79414358e-02,  -4.36346898e-03,   9.29033579e-05,\n",
       "           1.94255752e-02,  -2.44425751e-02,   7.83669232e-02,\n",
       "           4.31966588e-02,  -1.23551307e-02,  -4.64398529e-02,\n",
       "          -1.42108271e-02,   5.03443536e-02,   4.05466698e-02,\n",
       "           5.07216732e-02,  -2.93473979e-02,  -5.16373078e-02,\n",
       "           4.32938046e-03,  -2.41248418e-02,   3.91747807e-02,\n",
       "          -5.88996981e-02,  -1.65835213e-02,   5.75559213e-02,\n",
       "          -3.23618898e-02,  -9.36433926e-03,   6.17109884e-02,\n",
       "           1.02397103e-02,   5.88928621e-02,   5.09623933e-02,\n",
       "          -4.71261737e-02,  -4.10468929e-02,   2.32758907e-02,\n",
       "          -2.86300972e-02,   6.19537467e-02,  -1.44092417e-01,\n",
       "           1.29920212e-01,  -2.83492639e-02,   1.38817265e-02,\n",
       "          -7.14980927e-04,  -1.02705649e-01,   5.81099849e-02,\n",
       "           4.92916846e-02,  -5.12364102e-02,  -3.51611757e-02,\n",
       "           2.74522190e-02,  -1.53251828e-02,   3.63175883e-02,\n",
       "          -1.35878156e-02,  -6.49975665e-03,   5.49911958e-03,\n",
       "           2.46976704e-02,   8.11299027e-03,   2.88277131e-02,\n",
       "          -4.08174062e-02,  -8.07203140e-02,   2.83003431e-02,\n",
       "           4.27792935e-02,   1.60857855e-02,   5.03946502e-02,\n",
       "           1.07559554e-01,  -4.24547276e-02,  -1.46464624e-02,\n",
       "          -2.46365488e-02,  -6.94420829e-02,   1.75254420e-02,\n",
       "          -4.63937814e-03,  -3.38537308e-02,  -1.90287117e-02,\n",
       "          -5.12928321e-02,  -1.09711633e-01,   1.15822002e-02,\n",
       "           1.53417940e-02,  -2.63018938e-02,  -3.06981679e-03,\n",
       "           2.12356555e-02,   5.79958319e-02,   4.95732359e-02,\n",
       "          -1.76414683e-02,   7.55496301e-02,   4.96914205e-02,\n",
       "          -3.30342678e-02,   2.38760837e-02,   3.22442107e-02,\n",
       "          -1.17638360e-03,   5.11450025e-02,  -1.87543019e-03,\n",
       "           1.98677571e-02,  -9.05285542e-03,  -6.08271958e-02,\n",
       "          -5.31858117e-02,  -1.45572668e-01,   6.26700024e-02,\n",
       "          -7.89885586e-03,   2.36292593e-02,  -6.95713958e-02,\n",
       "          -5.73471141e-02,   1.56708586e-02,  -1.85712079e-02,\n",
       "           8.75578753e-02,   1.08348277e-01,  -3.44564823e-02,\n",
       "           7.51303761e-03,   3.25819389e-02,   4.08059386e-02,\n",
       "          -4.45321986e-02,  -5.40697908e-02,  -1.03403480e-03,\n",
       "          -3.79268227e-02,  -5.96080744e-02,   1.88301948e-02,\n",
       "          -8.88048660e-03,  -6.54200044e-02,   4.19185626e-02,\n",
       "          -6.54749822e-03,  -1.80401412e-02,   6.98488243e-02,\n",
       "          -3.12107379e-02,  -7.30912592e-03,  -1.87124481e-02,\n",
       "           4.31112520e-02,   5.93533529e-02,   1.73172442e-02,\n",
       "          -2.38971562e-02,  -8.97269060e-02,   2.56334104e-03,\n",
       "           3.36197006e-02,  -2.24915515e-02,   1.88913744e-02,\n",
       "           9.77053232e-03,  -1.08594087e-01,  -4.16436627e-02,\n",
       "           5.31454622e-02,   1.31183853e-02,   1.23491981e-02,\n",
       "          -2.34092252e-02,  -1.62884628e-02,  -2.20918644e-02,\n",
       "           4.07506307e-02,  -1.07599436e-01,  -2.65463096e-02,\n",
       "          -1.66915039e-03,  -1.02469066e-01,  -2.78970733e-02,\n",
       "          -2.43152996e-03,   2.49024132e-02,  -2.86431817e-02,\n",
       "           4.61122631e-02,  -4.19840257e-02,   6.92120210e-02,\n",
       "          -4.77552742e-02,  -4.74557921e-02,   6.59812842e-05,\n",
       "           7.56282318e-03,  -3.15974188e-02,  -2.81465911e-02,\n",
       "          -6.41067790e-02,  -1.96352150e-02,  -4.46624824e-02,\n",
       "          -2.16689317e-02,  -9.22454526e-02,  -8.17779144e-02,\n",
       "           6.04351682e-02,  -4.64139235e-02,   8.50914092e-02,\n",
       "           3.50150932e-02,  -5.61602475e-02,  -5.94092088e-02,\n",
       "          -7.62306668e-02,   8.20157917e-03,  -4.32475883e-02,\n",
       "           6.06964956e-03,  -7.08242409e-02,  -2.03885757e-02,\n",
       "          -5.44160177e-02,  -4.66264786e-02,  -1.68960938e-02,\n",
       "          -1.34916419e-01,   4.98790672e-02,  -3.16537680e-02,\n",
       "          -7.14632075e-02,  -2.32110675e-03,   2.34126047e-02,\n",
       "           7.19972274e-02,   4.72195984e-04,   2.89064140e-02,\n",
       "           3.24828061e-02,   4.50956637e-02,  -5.15116635e-02,\n",
       "          -2.04421479e-02,  -8.14630698e-03,  -4.99086442e-02,\n",
       "          -6.41379945e-02,   4.94939792e-02,  -3.54279506e-03,\n",
       "          -1.47802412e-02,   6.57059760e-02,  -5.02853966e-02,\n",
       "          -3.61758062e-02,   1.57173779e-02,   4.81106161e-02,\n",
       "          -3.93877237e-02,  -5.53340649e-02,   6.62332333e-02,\n",
       "          -1.09517612e-01,  -5.55263102e-02,   3.97440562e-02,\n",
       "           4.29770909e-02,  -3.98533370e-02,  -8.61850927e-02,\n",
       "          -2.64483548e-02,  -3.66771815e-03,   9.44690450e-03,\n",
       "           5.81561254e-02,  -2.32809096e-03,  -1.33562340e-02,\n",
       "          -1.56401371e-02,  -1.99836215e-02,   6.37161592e-02,\n",
       "           2.05198446e-02,  -1.76905067e-02,  -1.56991512e-02,\n",
       "           2.43837457e-02,   5.59064927e-03,  -1.00878354e-02,\n",
       "          -1.73304339e-02,  -9.63806468e-03,  -2.07947143e-02,\n",
       "          -3.17874404e-02,  -2.52289857e-02,  -2.26993300e-02,\n",
       "           1.05844746e-01,  -5.58782545e-02,   2.91248813e-02,\n",
       "           5.13955799e-03,  -9.51622290e-02,   9.95992706e-02,\n",
       "           2.28650471e-02,  -1.27534622e-02,  -1.23596377e-01,\n",
       "           3.30187029e-02,  -2.34827417e-02,  -1.41387083e-02,\n",
       "          -5.51776216e-02,  -2.45005416e-02,   7.71869871e-02,\n",
       "           3.04635528e-02,   2.14273514e-02,   6.24755410e-02,\n",
       "           1.06974418e-02,  -2.69984049e-02,   4.43548547e-02,\n",
       "           5.66831712e-02,   7.41076701e-02,   7.93928971e-02,\n",
       "           8.34531267e-02,  -3.44503419e-02,  -2.45202046e-02,\n",
       "           3.23105121e-02,   3.20768941e-02,  -3.79084867e-02,\n",
       "          -9.21046615e-02,   2.66174367e-02,   4.49891585e-04,\n",
       "          -2.21110036e-02,   1.78207265e-02,   1.18002468e-02,\n",
       "           6.41660525e-02,   3.23782263e-03,   4.98473779e-02,\n",
       "          -2.46339137e-02,  -5.66219692e-02,   4.90256254e-02,\n",
       "          -6.59888308e-02,   7.21705497e-02,   9.12267701e-02,\n",
       "           1.72238515e-02,  -8.86892312e-02,   4.59299699e-03,\n",
       "          -1.54084193e-02,  -6.05101094e-02,  -6.28885951e-02,\n",
       "           1.31779488e-03]]))"
      ]
     },
     "execution_count": 8,
     "metadata": {},
     "output_type": "execute_result"
    }
   ],
   "source": [
    "testmid.info_grad(testmid.vecs,neg=False)"
   ]
  },
  {
   "cell_type": "code",
   "execution_count": 16,
   "metadata": {
    "collapsed": false
   },
   "outputs": [
    {
     "name": "stdout",
     "output_type": "stream",
     "text": [
      "0.825502656921\n"
     ]
    },
    {
     "data": {
      "text/plain": [
       "[<matplotlib.lines.Line2D at 0x20700376518>]"
      ]
     },
     "execution_count": 16,
     "metadata": {},
     "output_type": "execute_result"
    },
    {
     "data": {
      "image/png": "[encoded data removed]",
      "text/plain": [
       "<matplotlib.figure.Figure at 0x2072fba8ac8>"
      ]
     },
     "metadata": {},
     "output_type": "display_data"
    }
   ],
   "source": [
    "testmid.vecs = np.zeros((testmid.ndim,th.data.shape[-1]))\n",
    "testmid.vecs[0,0] = 1\n",
    "info, pv, pvt = testmid.info_and_dists(vecs=testmid.vecs,neg=False)\n",
    "print(info)\n",
    "plt.plot(pvt/pv,'b.')"
   ]
  },
  {
   "cell_type": "code",
   "execution_count": 18,
   "metadata": {
    "collapsed": false
   },
   "outputs": [
    {
     "name": "stdout",
     "output_type": "stream",
     "text": [
      "Info             Gradient norm\n",
      "0.825502656921  8.76184683933\n",
      "1.48163185188  0.932176054993\n",
      "2.37887847189  1.34128278403\n",
      "3.28687591034  3.01781996501\n",
      "2.96190414334  2.05104030217\n",
      "3.35007324111  3.05653040972\n",
      "3.07614006408  1.93078676971\n",
      "3.57215609899  1.5230620622\n",
      "3.77409966205  0.4861086493\n",
      "3.95553105532  0.383217973799\n",
      "3.95553105532  0.383217973799\n",
      "Did not converge to desired precision.\n"
     ]
    }
   ],
   "source": [
    "testresults = testmid.optimize('GA',rate=1,maxiter=10)"
   ]
  },
  {
   "cell_type": "code",
   "execution_count": 19,
   "metadata": {
    "collapsed": false
   },
   "outputs": [
    {
     "name": "stdout",
     "output_type": "stream",
     "text": [
      "3.86094033142\n"
     ]
    },
    {
     "data": {
      "text/plain": [
       "[<matplotlib.lines.Line2D at 0x207008b5358>]"
      ]
     },
     "execution_count": 19,
     "metadata": {},
     "output_type": "execute_result"
    },
    {
     "data": {
      "image/png": "[encoded data removed]",
      "text/plain": [
       "<matplotlib.figure.Figure at 0x20700334b70>"
      ]
     },
     "metadata": {},
     "output_type": "display_data"
    }
   ],
   "source": [
    "info, pv, pvt = testmid.info_and_dists(vecs=testmid.vecs,neg=False)\n",
    "print(info)\n",
    "plt.plot(pvt/pv,'b.')"
   ]
  },
  {
   "cell_type": "code",
   "execution_count": 20,
   "metadata": {
    "collapsed": false
   },
   "outputs": [
    {
     "data": {
      "text/plain": [
       "array([[  2.96769213e+00,  -1.23150790e-01,   2.85685053e-01,\n",
       "         -9.04555741e-02,  -2.14208559e-01,  -3.95402026e-01,\n",
       "          2.64793780e-01,  -1.11125300e-02,   4.21721328e-01,\n",
       "         -1.73908540e-01,  -4.12968612e-01,  -3.61054049e-01,\n",
       "          3.47379458e-01,   2.45670354e-01,  -9.93695743e-02,\n",
       "          1.24441823e-01,   2.80959538e-01,   1.94143572e-02,\n",
       "         -8.87745530e-01,   2.27532330e-01,  -1.10801971e-01,\n",
       "          3.57040882e-02,  -2.96717294e-01,   4.22735136e-01,\n",
       "         -3.15664616e-01,   3.78908274e-01,  -2.16875379e-01,\n",
       "         -7.35871233e-01,   6.22985776e-01,   7.02860161e-01,\n",
       "          2.35896016e-01,   2.11998237e-01,  -6.61687903e-01,\n",
       "         -3.67188207e-01,  -6.62287736e-01,  -2.12152887e-01,\n",
       "         -6.37363144e-02,  -1.17332293e-01,   4.70945477e-01,\n",
       "          4.01152324e-01,  -5.26126022e-02,   2.55955321e-01,\n",
       "         -5.37813978e-03,  -4.63510070e-01,  -2.08077756e-01,\n",
       "         -3.45962356e-01,   2.87432477e-01,  -1.94368863e-01,\n",
       "          2.47804918e-01,  -2.49457878e-01,   2.36733442e-01,\n",
       "         -4.41747870e-01,   4.89683573e-02,  -1.15014124e-01,\n",
       "         -7.75292071e-04,  -6.22791923e-02,  -4.84164503e-01,\n",
       "         -2.23910959e-01,   1.04455420e-01,   3.89799307e-01,\n",
       "          3.23813613e-01,   2.33341822e-01,  -1.28101463e-01,\n",
       "          4.69861951e-01,  -1.96969314e-01,   7.22154630e-02,\n",
       "         -3.08437109e-02,  -5.77580989e-01,  -1.22268684e-01,\n",
       "         -2.16842429e-02,  -2.28013721e-01,  -2.50599150e-01,\n",
       "          2.34476613e-01,   2.79364366e-01,   1.23462798e-02,\n",
       "         -4.03180998e-01,   8.27732237e-02,  -1.70154759e-01,\n",
       "          4.34096534e-02,  -5.23405569e-02,  -3.97070385e-01,\n",
       "          5.92061561e-01,  -2.56165337e-01,   2.33630403e-02,\n",
       "          1.36702748e-01,   2.49526909e-01,   4.88533008e-01,\n",
       "         -6.46218204e-02,  -4.39234622e-01,   2.88110258e-01,\n",
       "         -1.70016455e-01,   4.56346728e-02,   4.00003233e-02,\n",
       "         -8.43690384e-02,   3.04988722e-01,  -7.13281863e-02,\n",
       "          6.94838416e-01,   2.76456805e-01,   3.63061469e-02,\n",
       "         -2.62162508e-01,   1.02516877e-01,  -3.41186278e-03,\n",
       "          2.21511144e-01,   1.63156602e-01,   4.17177305e-01,\n",
       "         -1.32556029e-01,   1.01942315e+00,  -5.15441592e-01,\n",
       "         -5.97705220e-02,   6.84845464e-01,   6.97900516e-01,\n",
       "         -5.27412518e-01,   4.81992693e-02,   3.10214935e-01,\n",
       "         -3.19658667e-01,  -3.75207829e-01,   1.87368005e-01,\n",
       "          1.91778232e-01,   6.47481674e-01,  -1.49340008e-01,\n",
       "          1.62187104e-01,  -1.76118271e-02,  -4.16812201e-01,\n",
       "         -7.09454239e-01,   2.93321797e-01,  -9.60067489e-02,\n",
       "          2.93473385e-01,  -5.27615146e-02,   6.39915463e-02,\n",
       "          1.78005364e-01,  -2.97977958e-02,   6.21826614e-01,\n",
       "         -2.76057899e-02,  -2.79642176e-01,  -1.57727800e-01,\n",
       "         -1.71739836e-01,  -1.81389212e-01,  -4.07201227e-01,\n",
       "         -7.19073100e-02,   5.96041396e-01,  -2.55352814e-02,\n",
       "          2.99181207e-01,   6.63064442e-01,  -2.59707694e-01,\n",
       "          3.42166450e-02,  -1.74192638e-02,   3.40129591e-01,\n",
       "         -4.84641452e-01,  -7.66474320e-02,   2.28859720e-01,\n",
       "          3.05990029e-01,   3.59822533e-01,   2.96906068e-01,\n",
       "          5.00713738e-02,   5.31159183e-02,   7.68450110e-02,\n",
       "          1.79199348e-01,   1.35903258e-01,   5.19918694e-01,\n",
       "         -1.99109412e-01,  -6.18047598e-02,   1.11427259e-01,\n",
       "          5.58160920e-02,   2.79460725e-01,  -1.91930753e-01,\n",
       "         -3.49041834e-01,  -5.74210660e-01,   2.97780264e-01,\n",
       "          1.47534945e-01,  -3.61058781e-01,  -8.18241856e-02,\n",
       "         -2.46236932e-01,   2.92257243e-01,   2.27835472e-01,\n",
       "         -2.49318720e-01,   2.70710668e-02,  -3.29208913e-01,\n",
       "          2.74664890e-01,   4.33332861e-01,   5.70264452e-01,\n",
       "         -2.12577996e-01,   4.09334968e-01,   1.07906109e-01,\n",
       "          4.31062755e-01,   2.48663727e-02,   2.70728191e-01,\n",
       "         -2.06043568e-01,   4.25640505e-01,  -6.94430086e-02,\n",
       "         -2.30907991e-01,  -4.56449381e-01,  -5.44548880e-01,\n",
       "          7.94590149e-02,  -1.60380611e-01,  -4.08271242e-01,\n",
       "          3.43271665e-01,   4.04783515e-01,  -5.38953413e-01,\n",
       "          1.60606728e-01,   5.85775469e-01,   2.53446570e-02,\n",
       "          2.20607135e-02,  -1.54307885e-01,  -2.09529422e-01,\n",
       "         -2.72557974e-01,  -9.58653422e-03,  -2.29906909e-01,\n",
       "          1.54667657e-01,  -1.72970738e-01,  -8.82223322e-02,\n",
       "          1.77296581e-01,   3.50600856e-01,  -6.21755769e-01,\n",
       "          3.13063510e-01,   2.84472794e-02,   1.08799088e-01,\n",
       "          2.97333334e-01,   8.07334425e-02,   7.08130584e-01,\n",
       "          6.44786690e-01,   1.41761710e-01,   7.61113278e-01,\n",
       "         -5.34323001e-02,   3.44743462e-01,  -4.88021004e-01,\n",
       "         -1.61667719e-01,  -5.26787433e-01,  -3.12498840e-01,\n",
       "         -2.50998671e-01,  -5.87156274e-01,   2.85813267e-01,\n",
       "         -1.00290051e+00,   6.24557763e-01,  -1.18579963e-01,\n",
       "         -4.76525658e-01,  -9.52172086e-03,   4.53005358e-01,\n",
       "          3.95286102e-01,   1.10004570e-01,  -6.51468283e-01,\n",
       "          9.74860744e-02,  -2.02358312e-01,  -9.67885657e-02,\n",
       "          2.39904102e-01,  -3.54509112e-01,  -4.34896635e-01,\n",
       "          2.12799106e-01,   2.13404871e-01,  -3.73989526e-01,\n",
       "          2.24453721e-01,   6.24367993e-01,  -5.62569666e-02,\n",
       "          3.91129556e-02,   2.89381709e-01,   5.21737296e-01,\n",
       "         -3.02869078e-01,   4.34625235e-01,  -3.15721510e-01,\n",
       "         -1.71902265e-01,   1.81237343e-01,  -3.52767183e-01,\n",
       "         -1.44189840e-01,   2.60189469e-01,   4.64928969e-01,\n",
       "          1.98397349e-01,  -6.12743555e-03,   2.70571612e-01,\n",
       "         -8.78252595e-02,   1.26570460e-01,  -1.03223800e-01,\n",
       "         -3.76053130e-01,   4.74217138e-01,  -3.43467565e-01,\n",
       "          4.20842531e-02,   1.66882580e-01,  -5.03774585e-02,\n",
       "         -2.06188462e-01,  -5.50333194e-01,  -4.93460405e-01,\n",
       "         -3.69817661e-02,  -1.25718904e-01,   2.88283806e-01,\n",
       "         -4.72767913e-01,  -5.29351190e-02,  -1.66090196e-01,\n",
       "          1.61549066e-01,  -4.12846975e-02,  -2.17788439e-01,\n",
       "         -2.60238972e-01,  -4.25642790e-02,   3.51670037e-01,\n",
       "          3.73570955e-02,  -6.85059620e-02,  -4.02794768e-01,\n",
       "          1.78241038e-01,  -6.93178429e-01,   1.15242577e-02,\n",
       "          1.33199698e-01,  -2.09077805e-01,  -4.18645040e-01,\n",
       "          1.15750915e-01,  -4.98220819e-02,   6.10853881e-01,\n",
       "          1.37028010e-01,   4.07577047e-01,  -5.07656733e-02,\n",
       "         -5.06748844e-01,  -7.93224603e-02,   7.72619852e-03,\n",
       "          9.34008746e-02,   1.24764010e-01,   1.87428599e-01,\n",
       "         -3.50195423e-01,   4.56979646e-01,  -1.74734865e-01,\n",
       "         -4.03611090e-01,   1.43679507e-01,   2.31387376e-01,\n",
       "          1.00448032e+00,  -2.35255945e-01,   1.11086269e-01,\n",
       "         -3.80265203e-01,   5.79783076e-02,  -4.94205840e-01,\n",
       "         -1.63592373e-01,  -1.01254416e-01,  -5.68483950e-02,\n",
       "         -5.29617953e-02,  -3.66710629e-02,   1.85382159e-01,\n",
       "          6.35509883e-02,  -3.50868126e-01,   1.10770300e-01,\n",
       "         -1.92556983e-01,  -1.97865557e-02,  -2.12807824e-02,\n",
       "         -1.33937475e-01,  -4.25623997e-02,  -2.38815121e-03,\n",
       "         -5.01703949e-01,   1.05402713e-01,  -4.63468809e-01,\n",
       "          3.87892890e-01,  -3.03403319e-01,   4.71494849e-01,\n",
       "          2.41514294e-01,  -2.95871348e-01,   3.70822318e-02,\n",
       "         -2.45890602e-01,   4.42583277e-01,  -2.14996962e-01,\n",
       "          6.62484886e-01,   7.63964866e-02,   9.88641332e-02,\n",
       "         -4.24238371e-01,   1.94354707e-01,  -3.48249401e-01,\n",
       "          2.50877845e-01,  -4.51742860e-01,   2.21366824e-01,\n",
       "         -1.05589436e-01,   2.53029239e-01,   4.83140242e-01,\n",
       "          4.04543401e-02,  -3.98675110e-01,  -8.65354612e-02,\n",
       "         -1.55651199e-02,   2.50906074e-01,   6.52385303e-01,\n",
       "         -3.16918917e-01,  -2.18345903e-01,  -4.67466800e-01,\n",
       "          2.57685759e-01,   2.41937013e-01,  -1.42231176e-01,\n",
       "          4.20141874e-01,   2.39206959e-01,  -3.21260644e-01,\n",
       "         -1.82317526e-01,  -3.13248837e-01,  -7.08445292e-02,\n",
       "         -2.76869403e-02,  -2.34533580e-01,   7.41227143e-03,\n",
       "         -1.20842003e-01,  -3.36997074e-02,  -6.24081566e-02,\n",
       "          8.82106168e-01,  -2.45162506e-01,   3.92241322e-02,\n",
       "         -2.57140877e-01,   1.08558691e-01,  -1.45994542e-01,\n",
       "         -1.55485305e-01,  -3.80140792e-01,   4.09837111e-02,\n",
       "         -4.44187245e-01,  -4.21438546e-01,   1.40930291e-01,\n",
       "          4.38668171e-02,   3.84462222e-01,  -5.55616468e-01,\n",
       "          4.70786115e-01,  -2.63395313e-01,  -2.38530559e-01,\n",
       "         -4.98654939e-01,  -8.81715430e-02,   3.30256611e-01,\n",
       "         -9.72921568e-02,  -2.91446258e-01,   4.90415905e-01,\n",
       "          4.66104808e-01,   1.77883444e-01,  -6.18113951e-01,\n",
       "          2.16072190e-02,  -8.55343797e-02,   6.15402322e-01,\n",
       "          6.83789631e-02,  -2.78082379e-01,   5.79274420e-03,\n",
       "         -1.81879827e-01,  -1.22877093e-01,  -4.63615579e-01,\n",
       "         -2.02015917e-01,  -3.60152120e-01,  -1.98792105e-01,\n",
       "          4.65610053e-01,   4.18437584e-01,  -1.01725471e-01,\n",
       "          2.32115302e-01,  -5.14550522e-01,  -4.24467622e-01,\n",
       "          4.14602069e-01,   4.44763378e-01,   2.41334998e-01,\n",
       "         -7.86396672e-01,   4.60712817e-01,   1.37467030e-01,\n",
       "          1.60137715e-01,   6.35639266e-02,   1.20255697e-01,\n",
       "         -1.78472364e-01,   1.92787860e-01,   1.74229651e-01,\n",
       "          5.06990989e-01,  -2.43117024e-01,  -1.28211079e-01,\n",
       "         -5.97839711e-01,   3.89567415e-01,  -7.47608371e-02,\n",
       "          9.98835548e-02,  -2.47340081e-01,  -5.63550335e-01,\n",
       "          7.26094197e-01,   1.98338204e-01,   8.31841211e-02,\n",
       "          2.05841179e-01,  -1.62442049e-01,  -3.64721061e-01,\n",
       "          1.97150273e-01,   1.31265828e-01,   2.82900104e-01,\n",
       "         -1.78853141e-01,   3.85265533e-01,   4.92769608e-01,\n",
       "          4.59441207e-01,   3.59323837e-01,  -3.82703881e-01,\n",
       "          1.19671822e-01,   2.44015186e-01,  -9.37150833e-02,\n",
       "         -2.77986192e-01,   2.60588179e-01,   4.24941434e-01,\n",
       "          2.54367796e-01,  -4.74844499e-01,   9.96227476e-02,\n",
       "          8.14515008e-02,  -1.50793290e-01,  -6.04504576e-01,\n",
       "         -1.97702222e-01,  -9.28043363e-03,   1.91088487e-01,\n",
       "          1.64539689e-01,  -1.19297376e-01,  -7.48502545e-01,\n",
       "          7.06843078e-01,  -3.01719727e-01,   4.89887282e-02,\n",
       "          4.82557495e-01,   3.82701657e-01,   4.29014127e-01,\n",
       "         -1.10630355e-01,  -5.17249299e-02,   2.47731608e-02,\n",
       "         -1.14257065e-01,   1.52189262e-01,   7.78952680e-02,\n",
       "         -2.84508196e-01,   4.19728945e-01,  -3.23717147e-01,\n",
       "          1.55173495e-01,   2.15808216e-02,  -4.34442885e-01,\n",
       "          2.79591906e-01,  -5.16728455e-01,   7.30980559e-02,\n",
       "          1.93189881e-01,  -5.03601445e-02,   3.07499736e-01,\n",
       "         -5.41544049e-01,  -1.55069633e-01,  -2.17659035e-01,\n",
       "          2.48493712e-01,   2.40029462e-02,   2.89111316e-01,\n",
       "          2.93026440e-02,  -2.13118213e-01,   1.80669702e-02,\n",
       "         -2.39691658e-01,  -4.50477668e-01,   1.35154663e-01,\n",
       "          2.23389288e-01,  -5.78194297e-01,   3.77192819e-01,\n",
       "         -2.22680620e-01,  -2.97261159e-01,  -6.81582314e-01,\n",
       "         -8.77470317e-01,   4.20522143e-01,   1.73306754e-01,\n",
       "          5.00591118e-01,  -1.19745906e-01,   7.12695318e-02,\n",
       "         -2.04543017e-01,   4.40799300e-02,   2.56374876e-01,\n",
       "          1.24470988e-01,  -3.33433268e-01,  -3.35585664e-01,\n",
       "          8.20290602e-02,  -2.18538798e-01,  -2.56955928e-01,\n",
       "         -4.75386604e-01,   3.84307281e-02,  -4.21448492e-03,\n",
       "          3.10877096e-01,  -3.62385157e-01,   7.50932539e-03,\n",
       "          9.69418864e-02,  -5.84104314e-02,   5.18838775e-02,\n",
       "          4.95308024e-02,  -3.68699510e-01,  -1.06045439e-01,\n",
       "          8.14526520e-02,   1.22744447e-01,   1.81391680e-02,\n",
       "         -4.49470844e-01,  -3.77145975e-01,   2.31968921e-03,\n",
       "         -2.72586916e-01,  -7.07106155e-01,   1.75708548e-01,\n",
       "         -4.85425378e-01,   6.28792223e-02,   3.76400072e-01,\n",
       "          1.22657104e-01,   2.44667208e-01,  -8.15920377e-02,\n",
       "          3.04971571e-01,  -2.21109995e-01,   1.36000634e-01,\n",
       "          3.16282736e-01,  -2.71997300e-01,   4.38124269e-03,\n",
       "          3.91856191e-01,   3.18664404e-01,   3.20188170e-01,\n",
       "         -3.79684635e-01,  -4.00318258e-01,   4.96600386e-02,\n",
       "         -2.97237412e-01,  -5.77722845e-02,   9.61636544e-02,\n",
       "         -5.65721666e-03,  -3.44467364e-01,   2.62625212e-01,\n",
       "         -3.44777811e-01,   5.85811150e-01,   1.09792712e-01,\n",
       "          4.39060009e-01,  -2.98498025e-01,   4.37434269e-01,\n",
       "          3.96477752e-01,  -1.15934516e-01,  -3.52531643e-01,\n",
       "         -3.00276755e-01,   7.59480069e-02,   1.58082290e-01,\n",
       "         -4.26622023e-02,   2.65796159e-01,   3.79465946e-03,\n",
       "         -1.70728402e-01,   1.24767522e-01,   1.97846845e-01,\n",
       "         -1.88423340e-01,   2.04965203e-01,   1.00953783e-01,\n",
       "         -1.36940716e-01,   3.23063299e-01,  -5.21473079e-01,\n",
       "          1.37203801e-01,  -2.30063734e-01,   7.83931121e-03,\n",
       "         -5.35023825e-02,   5.11359702e-01,  -1.54668159e-01,\n",
       "          1.71109781e-01,   8.81848179e-02,  -4.24591882e-02,\n",
       "         -2.28626785e-01,   5.78828095e-01,   1.71929611e-01,\n",
       "         -3.61232276e-01,  -1.93312324e-04,  -3.36395369e-01,\n",
       "          4.49035254e-01,  -5.17226702e-01,  -5.15202874e-02,\n",
       "          7.10093069e-01,   3.84823288e-02,   9.47031850e-02,\n",
       "         -2.84754105e-01,   2.20049578e-01,   2.73576361e-01,\n",
       "         -3.60260155e-02,   9.25551732e-02,  -3.27689872e-01,\n",
       "         -2.51209015e-01,   9.46342750e-02,  -1.62075203e-01,\n",
       "         -1.93230301e-02,   4.25525960e-02,   5.37924436e-02,\n",
       "          1.45414016e-01,   2.32234886e-01,   3.96228168e-01,\n",
       "          2.73931418e-01,  -2.80577820e-02,   4.00373822e-01,\n",
       "         -3.46033788e-01,   4.11831474e-01,   2.03242042e-01,\n",
       "         -2.36982671e-01,  -2.77051897e-02,  -1.23199370e-01,\n",
       "          2.48046181e-01,  -3.22275490e-01,  -3.21292514e-03,\n",
       "          4.32850947e-01,  -3.96349292e-01,  -2.63263412e-01,\n",
       "          1.06579491e+00,   2.95391888e-01,  -1.19462161e-01,\n",
       "          2.34003168e-01,   5.82699029e-02,   1.89478266e-02,\n",
       "          9.30979600e-01,   3.51504159e-02,   1.44490116e-01,\n",
       "         -5.06326131e-03,  -1.58623271e-01,   3.46649965e-01,\n",
       "         -5.03355341e-01,   3.93649812e-01,   2.33939145e-01,\n",
       "          2.11825359e-01,  -2.15208641e-01,   3.67564423e-01,\n",
       "         -1.30743826e-01,   2.70966461e-01,  -9.58184831e-02,\n",
       "         -5.19928954e-02,   6.60778252e-03,   1.85308884e-01,\n",
       "         -6.09833457e-01,  -5.82990314e-01,   6.37486498e-01,\n",
       "         -3.25751488e-01,   1.93976256e-01,   2.28317504e-01,\n",
       "         -3.41262065e-03,   5.13282122e-01,   2.69631383e-01,\n",
       "         -8.90768748e-02,   6.23886244e-01,   6.57764876e-02,\n",
       "          2.39715734e-01,   1.82281257e-01,   5.74171941e-02,\n",
       "         -1.10834846e-01,   4.43502568e-02,  -1.69266455e-01,\n",
       "         -1.75071988e-01,  -2.63246914e-02,   3.32549085e-01,\n",
       "          5.34035938e-02,  -3.59887980e-01,   6.59152444e-02,\n",
       "          2.24700790e-01,   2.33632242e-01,  -3.31533236e-01,\n",
       "          1.08118525e-01,  -2.34962894e-01,   2.43970754e-01,\n",
       "         -2.65034593e-01,  -7.89034189e-01,  -2.92360188e-01,\n",
       "          5.04277958e-01,  -1.18473583e-02,   2.54211295e-01,\n",
       "         -4.94851254e-02,  -4.41558268e-01,   5.02266809e-02,\n",
       "         -3.14216266e-01,  -2.38615702e-01,  -1.65049403e-01,\n",
       "          2.85988281e-01,  -4.19359063e-01,   8.08080838e-01,\n",
       "          5.66252129e-04,  -1.43489417e-01,  -3.20237637e-01,\n",
       "         -2.74351692e-02,   9.38932464e-02,   3.10868745e-01,\n",
       "          7.51379358e-02,  -4.62120239e-02,   5.09955344e-01,\n",
       "         -3.19935751e-02,  -5.80576617e-01,   5.17474530e-02,\n",
       "          2.14517542e-01,  -3.61230253e-02,  -1.56529400e-01,\n",
       "          1.57996208e-01,  -4.09327915e-01,  -5.98978281e-02,\n",
       "         -2.78363823e-01,   1.65004242e-01,   1.63201809e-01,\n",
       "          8.16265607e-02,  -4.82813327e-01,   1.60137172e-01,\n",
       "         -1.12363704e-01,  -9.21205251e-02,  -2.65884033e-01,\n",
       "          7.17966302e-02,   2.76580047e-01,  -2.79727735e-01,\n",
       "         -1.40059782e-01,   1.24326058e-01,  -2.55664226e-01,\n",
       "         -4.61105865e-02,   4.31414822e-02,   9.23045002e-02,\n",
       "          2.34330071e-01,   6.78161625e-02,  -2.58153195e-01,\n",
       "          4.07096209e-01,   2.75503302e-01,   9.40110133e-02,\n",
       "          3.29150855e-01,   3.83937600e-02,  -6.39433568e-01,\n",
       "         -3.46307624e-02,   6.59380688e-03,  -1.23021561e-01,\n",
       "         -1.87979016e-01,   2.70479106e-01,   2.66090674e-01,\n",
       "          3.64882291e-02,   5.01133014e-01,  -1.80085798e-01,\n",
       "          4.14112405e-02,  -2.29774146e-01,   2.19202224e-01,\n",
       "         -3.23599770e-01,  -6.38635954e-01,   1.87692716e-01,\n",
       "         -3.32375441e-01,  -6.59125642e-01,  -1.26546658e-01,\n",
       "          5.56163637e-01,  -4.05914767e-01,  -4.14066634e-01,\n",
       "         -5.25143251e-01,  -4.42125897e-01,   2.33731714e-01,\n",
       "         -2.95905299e-01,   2.46933406e-01,  -2.33492788e-01,\n",
       "          3.71547863e-01,   2.08380486e-01,  -6.31176855e-01,\n",
       "          1.04205905e-01,  -1.03766153e-01,   3.81010591e-01,\n",
       "          6.64868025e-01,  -5.34288512e-01,  -1.21889799e-01,\n",
       "         -6.65047470e-01,   1.15331322e-01,  -1.00661962e-01,\n",
       "          8.47421547e-01,   9.96361201e-03,  -1.72910890e-01,\n",
       "          4.95037451e-01,   2.49732834e-01,   1.23431232e-01,\n",
       "         -2.58543463e-01,   1.06123451e-01,  -1.12762698e-01,\n",
       "         -3.17802140e-01,  -1.59542318e-02,  -1.37540731e-02,\n",
       "         -5.74291570e-01,  -1.64165470e-01,   1.40549569e-01,\n",
       "         -1.83927241e-01,  -4.36727537e-01,  -3.53009467e-01,\n",
       "         -8.47273383e-02,  -1.44634527e-01,  -2.04206092e-01,\n",
       "         -3.24307325e-02,  -4.27211400e-02,   1.44009604e-01,\n",
       "         -4.36513063e-01,  -1.84070878e-01,  -1.85295078e-01,\n",
       "         -1.83424563e-01,   6.10933061e-01,   1.76702728e-01,\n",
       "         -1.93774327e-01,  -1.15646440e-01,   1.03994701e-01,\n",
       "          2.33707462e-01,  -3.24658121e-01,   3.41131220e-01,\n",
       "         -1.99491239e-01,  -5.85435412e-01,  -3.15963314e-03,\n",
       "          4.56297049e-01,  -5.49555088e-01,   5.76227129e-02,\n",
       "         -3.24470103e-01,   3.03467532e-02,   5.67187056e-01,\n",
       "          5.61590338e-01,  -1.03197251e-01,  -3.78536593e-01,\n",
       "         -1.32518962e-01,  -7.76384794e-02,   7.77337539e-02,\n",
       "         -1.85823881e-01,   4.66832469e-02,  -7.79017676e-02,\n",
       "          1.15961073e-02,  -1.87582836e-02,  -1.82578863e-01,\n",
       "         -1.52734226e-01,   6.85005837e-01,  -6.73778963e-01,\n",
       "          1.21467421e-02,   2.71965143e-01,  -4.90551395e-01,\n",
       "         -7.52966012e-02,  -3.96336342e-01,  -1.99260398e-01,\n",
       "          4.42105471e-01,   1.27788545e-01,  -1.62953307e-01,\n",
       "         -1.38919532e-01,   6.24567022e-01,   7.70465168e-01,\n",
       "          5.35860192e-02,   8.77862012e-01,   3.34923517e-01,\n",
       "         -1.08553655e-01,  -6.09032737e-02,  -2.14695449e-01,\n",
       "         -3.89347447e-01,   3.54350304e-01,  -6.03552060e-02,\n",
       "         -4.51041738e-01,   2.12115498e-01,  -1.61858511e-01,\n",
       "          4.13534736e-01,   1.67980012e-02,   1.22750282e-01,\n",
       "         -8.63325296e-02,   6.10735329e-01,   2.44788470e-01,\n",
       "         -1.27150559e-02,   2.54930086e-01,   1.97239890e-01,\n",
       "          1.29961764e-01,  -9.86108231e-02,  -4.64308098e-01,\n",
       "         -3.48758434e-01,  -7.50601852e-02,  -8.18033116e-01,\n",
       "         -2.26881350e-02,   1.59022689e-01,  -3.86084770e-01,\n",
       "         -5.17887190e-01,   3.17956820e-01,  -2.65906105e-03,\n",
       "          3.60755204e-01,   2.21592320e-01,   7.28402816e-01,\n",
       "          1.79150920e-01,   5.19194567e-01,  -1.11587667e-01,\n",
       "          2.51023559e-01,   4.66986370e-01,   4.02571007e-02,\n",
       "          3.43745921e-02,  -1.17160522e-01,  -2.58836141e-02,\n",
       "          2.96477977e-01,  -1.65498547e-01,   3.46983052e-01,\n",
       "         -3.61348579e-01,  -7.14150499e-01,   1.45121573e-01,\n",
       "          6.06317942e-01,   2.82367039e-01,   2.24444733e-01,\n",
       "          4.12327102e-01,  -1.23529356e-01,   2.10787903e-01,\n",
       "         -3.30940667e-02,   1.73760779e-01,  -3.65478343e-01,\n",
       "          1.73519413e-01,  -2.82162104e-01,   1.57390560e-01,\n",
       "          5.36004493e-02,  -3.81419907e-01,  -1.88683011e-02,\n",
       "         -3.12215679e-01,  -5.50436772e-01,  -4.17228713e-03,\n",
       "         -6.71916000e-02,   4.47529875e-01,  -5.29772057e-01,\n",
       "         -5.10528048e-01,  -1.22865295e-01,   1.25896065e-02,\n",
       "         -1.73671475e-01,  -2.28559255e-01,   1.15672020e-01,\n",
       "          5.39591330e-01,  -5.32979710e-01,   1.13262234e-01,\n",
       "         -1.84188131e-01,   2.48420544e-01,   6.79754769e-01,\n",
       "         -2.27940228e-01,  -1.63598750e-01,  -6.24851909e-02,\n",
       "         -4.72297116e-01,  -1.49833563e-01,   3.58594720e-01,\n",
       "          5.22882578e-01,  -1.31687881e-01,  -3.44292202e-01,\n",
       "         -3.09871387e-01,  -3.54648250e-01,  -4.49620383e-01,\n",
       "         -1.19853666e+00,  -2.38206726e-01,   3.63773433e-01,\n",
       "          1.77393862e-01,  -3.48443734e-01,   3.92256084e-01,\n",
       "          8.50184913e-02,  -4.56315396e-02,  -3.43426624e-01,\n",
       "          1.56417174e-01,  -2.44825319e-01,  -6.83876037e-01,\n",
       "         -8.34854441e-02,  -1.24646278e-02,  -4.22394176e-02,\n",
       "          6.28136328e-01]])"
      ]
     },
     "execution_count": 20,
     "metadata": {},
     "output_type": "execute_result"
    }
   ],
   "source": [
    "testmid.vecs"
   ]
  },
  {
   "cell_type": "code",
   "execution_count": 131,
   "metadata": {
    "collapsed": false
   },
   "outputs": [
    {
     "data": {
      "text/plain": [
       "array([[ -1.03226161e+00,  -7.74432835e-01,  -5.16604060e-01,\n",
       "         -2.58775286e-01,  -9.46510854e-04,   2.56882264e-01,\n",
       "          5.14711039e-01,   7.72539813e-01,   1.03036859e+00],\n",
       "       [ -1.03342184e+00,  -7.75080982e-01,  -5.16740126e-01,\n",
       "         -2.58399271e-01,  -5.84148720e-05,   2.58282441e-01,\n",
       "          5.16623297e-01,   7.74964152e-01,   1.03330501e+00]])"
      ]
     },
     "execution_count": 131,
     "metadata": {},
     "output_type": "execute_result"
    }
   ],
   "source": [
    "testmid.binbounds"
   ]
  },
  {
   "cell_type": "code",
   "execution_count": 10,
   "metadata": {
    "collapsed": false
   },
   "outputs": [],
   "source": [
    "info, grad = testmid.info_grad(testmid.v,neg=False)"
   ]
  },
  {
   "cell_type": "code",
   "execution_count": 11,
   "metadata": {
    "collapsed": false
   },
   "outputs": [
    {
     "data": {
      "text/plain": [
       "array([ -3.19422677e-03,   4.53008849e-04,  -8.95012687e-05,\n",
       "         5.58564394e-05,  -5.67877378e-05])"
      ]
     },
     "execution_count": 11,
     "metadata": {},
     "output_type": "execute_result"
    }
   ],
   "source": [
    "grad"
   ]
  },
  {
   "cell_type": "code",
   "execution_count": 15,
   "metadata": {
    "collapsed": false
   },
   "outputs": [
    {
     "ename": "NameError",
     "evalue": "name 'grad' is not defined",
     "output_type": "error",
     "traceback": [
      "\u001b[1;31m---------------------------------------------------------------------------\u001b[0m",
      "\u001b[1;31mNameError\u001b[0m                                 Traceback (most recent call last)",
      "\u001b[1;32m<ipython-input-15-b401ce4e2030>\u001b[0m in \u001b[0;36m<module>\u001b[1;34m()\u001b[0m\n\u001b[1;32m----> 1\u001b[1;33m \u001b[0mgrad\u001b[0m\u001b[1;33m.\u001b[0m\u001b[0mdot\u001b[0m\u001b[1;33m(\u001b[0m\u001b[0mtestmid\u001b[0m\u001b[1;33m.\u001b[0m\u001b[0mv\u001b[0m\u001b[1;33m)\u001b[0m\u001b[1;33m\u001b[0m\u001b[0m\n\u001b[0m",
      "\u001b[1;31mNameError\u001b[0m: name 'grad' is not defined"
     ]
    }
   ],
   "source": [
    "grad.dot(testmid.v)"
   ]
  },
  {
   "cell_type": "code",
   "execution_count": 15,
   "metadata": {
    "collapsed": false
   },
   "outputs": [
    {
     "name": "stdout",
     "output_type": "stream",
     "text": [
      "[ 0.14781714 -0.06893542 -0.06967218 -0.06996106 -0.06930162]\n",
      "[ 0.20287896 -0.09543404 -0.10106793 -0.09942686 -0.11212613]\n"
     ]
    }
   ],
   "source": [
    "v = np.array([.4,.2,.2,.2,.2])\n",
    "grad = np.zeros(5)\n",
    "epsilon = .01\n",
    "info, supposedgrad = testmid.info_grad(v, neg=False)\n",
    "for direc in range(5):\n",
    "    delta = np.zeros(5)\n",
    "    delta[direc] = epsilon\n",
    "    newinfo, _ =  testmid.info_grad(v+delta, neg=False)\n",
    "    grad[direc] = (newinfo-info)/epsilon\n",
    "print(supposedgrad)\n",
    "print(grad)"
   ]
  },
  {
   "cell_type": "code",
   "execution_count": 16,
   "metadata": {
    "collapsed": false
   },
   "outputs": [],
   "source": [
    "info, pv, pvt = testmid.info_and_dists()\n",
    "abscissa = np.arange(15)\n",
    "plt.plot(abscissa, pv, 'b.', abscissa, pvt, 'r.', abscissa, pvt/pv, 'g.')\n",
    "plt.show()"
   ]
  },
  {
   "cell_type": "code",
   "execution_count": 22,
   "metadata": {
    "collapsed": false
   },
   "outputs": [
    {
     "data": {
      "text/plain": [
       "2.4119016054862952"
      ]
     },
     "execution_count": 22,
     "metadata": {},
     "output_type": "execute_result"
    }
   ],
   "source": [
    "np.log2(th.get_nstim()/th.spiketrain.sum())"
   ]
  },
  {
   "cell_type": "code",
   "execution_count": 17,
   "metadata": {
    "collapsed": false
   },
   "outputs": [
    {
     "name": "stdout",
     "output_type": "stream",
     "text": [
      "1.31991421587\n"
     ]
    }
   ],
   "source": [
    "alltheinfo = testmid.info(th.truerf, neg=False)\n",
    "print(alltheinfo)"
   ]
  },
  {
   "cell_type": "code",
   "execution_count": 27,
   "metadata": {
    "collapsed": false
   },
   "outputs": [
    {
     "name": "stdout",
     "output_type": "stream",
     "text": [
      "3.83883347406\n"
     ]
    }
   ],
   "source": [
    "expbias = (th.get_nstim()/th.spiketrain.sum())/(2*np.log(2))\n",
    "print(expbias)"
   ]
  },
  {
   "cell_type": "code",
   "execution_count": 5,
   "metadata": {
    "collapsed": false
   },
   "outputs": [
    {
     "name": "stdout",
     "output_type": "stream",
     "text": [
      "Warning: Desired error not necessarily achieved due to precision loss.\n",
      "         Current function value: -1.320318\n",
      "         Iterations: 5\n",
      "         Function evaluations: 56\n",
      "         Gradient evaluations: 44\n",
      "Desired error not necessarily achieved due to precision loss.\n"
     ]
    }
   ],
   "source": [
    "withbfgs = testmid.optimize('BFGS')"
   ]
  },
  {
   "cell_type": "code",
   "execution_count": 6,
   "metadata": {
    "collapsed": false
   },
   "outputs": [
    {
     "data": {
      "text/plain": [
       "array([ 2.52087593,  0.0077204 , -0.02900514, -0.00861167, -0.00476075])"
      ]
     },
     "execution_count": 6,
     "metadata": {},
     "output_type": "execute_result"
    }
   ],
   "source": [
    "withbfgs.x"
   ]
  },
  {
   "cell_type": "code",
   "execution_count": 8,
   "metadata": {
    "collapsed": false
   },
   "outputs": [
    {
     "name": "stdout",
     "output_type": "stream",
     "text": [
      "5.140145385436469\n",
      "8.321890010674267\n"
     ]
    }
   ],
   "source": [
    "import time \n",
    "init = time.clock()\n",
    "info = testmid.info()\n",
    "justinfotime = time.clock() - init\n",
    "info, grad = testmid.info_grad(testmid.v)\n",
    "bothtime = time.clock() - justinfotime - init\n",
    "print(justinfotime)\n",
    "print(bothtime)"
   ]
  },
  {
   "cell_type": "code",
   "execution_count": null,
   "metadata": {
    "collapsed": true
   },
   "outputs": [],
   "source": []
  }
 ],
 "metadata": {
  "kernelspec": {
   "display_name": "Python 3",
   "language": "python",
   "name": "python3"
  },
  "language_info": {
   "codemirror_mode": {
    "name": "ipython",
    "version": 3
   },
   "file_extension": ".py",
   "mimetype": "text/x-python",
   "name": "python",
   "nbconvert_exporter": "python",
   "pygments_lexer": "ipython3",
   "version": "3.5.2"
  }
 },
 "nbformat": 4,
 "nbformat_minor": 0
}
