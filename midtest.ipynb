{
 "cells": [
  {
   "cell_type": "code",
   "execution_count": 3,
   "metadata": {
    "collapsed": true
   },
   "outputs": [],
   "source": [
    "demofolder = '../../mid/mid-demo/'\n",
    "spikefile = '11101_1.isk'\n",
    "moviefile = 'walk1_ieee_128x128x16384.raw'"
   ]
  },
  {
   "cell_type": "code",
   "execution_count": 2,
   "metadata": {
    "collapsed": false
   },
   "outputs": [
    {
     "name": "stdout",
     "output_type": "stream",
     "text": [
      "Can't read this line as an int.\n",
      "Can't read this line as an int.\n",
      "16384\n",
      "20910\n"
     ]
    }
   ],
   "source": [
    "with open(demofolder+spikefile, 'r') as f:\n",
    "    nframes = 0\n",
    "    nspikes = 0\n",
    "    for line in f:\n",
    "        nframes += 1\n",
    "        try:\n",
    "            nspikes += int(line.rstrip())\n",
    "        except ValueError:\n",
    "            print(\"Can't read this line as an int. Guessing zero.\")\n",
    "print(nframes)\n",
    "print(nspikes)"
   ]
  },
  {
   "cell_type": "code",
   "execution_count": 4,
   "metadata": {
    "collapsed": false
   },
   "outputs": [
    {
     "name": "stdout",
     "output_type": "stream",
     "text": [
      "<class '_io.BufferedReader'>\n",
      "123532465\n",
      "604940\n",
      "4893040\n",
      "16025108\n",
      "82979045\n",
      "31964868\n",
      "894\n",
      "3306\n",
      "48\n",
      "8431742\n",
      "268435456\n",
      "10\n"
     ]
    }
   ],
   "source": [
    "with open(demofolder+moviefile,'rb') as f:\n",
    "    print(type(f))\n",
    "    count = 0\n",
    "    bigcount = 0\n",
    "    for thing in f:\n",
    "        print(len(thing))\n",
    "        count += 1\n",
    "        bigcount += len(thing)\n",
    "print(bigcount)\n",
    "print(count)"
   ]
  },
  {
   "cell_type": "code",
   "execution_count": 6,
   "metadata": {
    "collapsed": false
   },
   "outputs": [
    {
     "name": "stdout",
     "output_type": "stream",
     "text": [
      "57\n"
     ]
    }
   ],
   "source": [
    "print(thing[1])"
   ]
  },
  {
   "cell_type": "code",
   "execution_count": 1,
   "metadata": {
    "collapsed": false
   },
   "outputs": [],
   "source": [
    "import matplotlib.pyplot as plt\n",
    "import numpy as np\n",
    "plt.ioff()"
   ]
  },
  {
   "cell_type": "code",
   "execution_count": 26,
   "metadata": {
    "collapsed": false
   },
   "outputs": [
    {
     "data": {
      "text/plain": [
       "True"
      ]
     },
     "execution_count": 26,
     "metadata": {},
     "output_type": "execute_result"
    }
   ],
   "source": [
    "(128*128*16384) == bigcount"
   ]
  },
  {
   "cell_type": "code",
   "execution_count": 47,
   "metadata": {
    "collapsed": false
   },
   "outputs": [
    {
     "data": {
      "text/plain": [
       "<matplotlib.image.AxesImage at 0x2094e501710>"
      ]
     },
     "execution_count": 47,
     "metadata": {},
     "output_type": "execute_result"
    }
   ],
   "source": [
    "with open(demofolder+moviefile,'rb') as f:\n",
    "    frame = f.read(128*128)\n",
    "flframe = np.zeros(len(frame))\n",
    "for pix in range(len(frame)):\n",
    "    flframe[pix] = float(frame[pix])\n",
    "plt.imshow(flframe.reshape((128,128)),cmap='gray')"
   ]
  },
  {
   "cell_type": "code",
   "execution_count": null,
   "metadata": {
    "collapsed": false
   },
   "outputs": [],
   "source": [
    "with open(demofolder+moviefile,'rb') as f:\n",
    "    while True:\n",
    "        frame = f.read(128*128)\n",
    "        if not frame:\n",
    "            break\n",
    "        flframe = np.zeros(len(frame))\n",
    "        for pix in range(len(frame)):\n",
    "            flframe[pix] = float(frame[pix])\n",
    "        plt.imshow(flframe.reshape((128,128)),cmap='gray')\n",
    "        plt.show()"
   ]
  },
  {
   "cell_type": "code",
   "execution_count": 12,
   "metadata": {
    "collapsed": true
   },
   "outputs": [],
   "source": [
    "plt.show()"
   ]
  },
  {
   "cell_type": "code",
   "execution_count": 2,
   "metadata": {
    "collapsed": true
   },
   "outputs": [],
   "source": [
    "def downsample_frame(frame, factor):\n",
    "    \"\"\"Downsample by blocking the image. Only works for integer downsampling rates.\"\"\"\n",
    "    if int(factor) != factor:\n",
    "        raise ValueError(\"Downsampling rate must be an integer.\")\n",
    "    winit, hinit = frame.shape\n",
    "    wf=int(winit/factor)\n",
    "    hf=int(hinit/factor)\n",
    "    out = np.zeros((wf,hf))\n",
    "    for x in range(wf):\n",
    "        for y in range(hf):\n",
    "            out[x,y] = np.mean(frame[x*factor:(x+1)*factor,y*factor:(y+1)*factor])\n",
    "    return out"
   ]
  },
  {
   "cell_type": "code",
   "execution_count": 3,
   "metadata": {
    "collapsed": true
   },
   "outputs": [],
   "source": [
    "class MovieHandler:\n",
    "    def __init__(self, moviefile=None, spikefile=None, framesinstim=3, downfactor = 4):\n",
    "        self.framesinstim = framesinstim\n",
    "        demofolder = '../../mid/mid-demo/'\n",
    "        self.downfactor = downfactor\n",
    "        if moviefile is None:\n",
    "            moviefile = demofolder +'walk1_ieee_128x128x16384.raw'\n",
    "        if spikefile is None:\n",
    "            spikefile = demofolder +'11101_1.isk'\n",
    "        self.load_movie(moviefile)  \n",
    "        self.load_spikes(spikefile)\n",
    "        if len(self.spiketrain) != len(self.movie):\n",
    "            print('Warning. Spike train length '+str(len(self.spiketrain))+ ' is not equal to movie length '+str(len(self.movie))+'.')        \n",
    "        \n",
    "    def get_nstim(self):\n",
    "        return len(self.spiketrain) - (self.framesinstim-1)\n",
    "    \n",
    "    def load_spikes(self, file):\n",
    "        spiketrain = []\n",
    "        with open(file, 'r') as f:\n",
    "            for line in f:\n",
    "                try:\n",
    "                    spiketrain.append(int(line.rstrip()))\n",
    "                except ValueError:\n",
    "                    print(\"Can't read this line of spike file as an int. Guessing zero.\")\n",
    "                    spiketrain.append(0)\n",
    "        self.spiketrain = spiketrain\n",
    "    \n",
    "    def load_movie(self, file, frameshape = (128,128)):\n",
    "        framesize = np.prod(frameshape)\n",
    "        self.movie = []\n",
    "        with open(file,'rb') as f:\n",
    "            while True:\n",
    "                frame = f.read(framesize)\n",
    "                if not frame:\n",
    "                    break\n",
    "                flframe = np.zeros(len(frame))\n",
    "                for pix in range(len(frame)):\n",
    "                    flframe[pix] = float(frame[pix])\n",
    "                flframe = downsample_frame(flframe.reshape(frameshape),self.downfactor)\n",
    "                self.movie.append(flframe.flatten())     \n",
    "        self.frameshape = tuple([int(length/self.downfactor) for length in frameshape])\n",
    "\n",
    "    def play(self, rate=30):\n",
    "        try:\n",
    "            self.movie\n",
    "        except NameError:\n",
    "            print(\"No movie loaded.\")\n",
    "            return\n",
    "        img = None\n",
    "        for frame in self.movie:\n",
    "            fr = frame.reshape(self.frameshape)\n",
    "            if img is None:\n",
    "                img = plt.imshow(fr,cmap='gray')\n",
    "            else:\n",
    "                img.set_data(fr)\n",
    "            plt.pause(1./rate)\n",
    "            plt.draw()\n",
    "            \n",
    "    def generator(self):\n",
    "        lags = self.framesinstim\n",
    "        try: \n",
    "            for t in range(len(self.spiketrain)):\n",
    "                if t >= lags-1:\n",
    "                    stim = np.zeros((lags,np.prod(self.frameshape)))\n",
    "                    for l in range(lags):\n",
    "                         stim[l,:] = self.movie[t-l].flatten()\n",
    "                    yield stim.flatten(), self.spiketrain[t]\n",
    "        #try:\n",
    "        #    for frame, sp in zip(self.movie, self.spiketrain):\n",
    "        #            yield frame.flatten(), sp\n",
    "        except NameError:\n",
    "            print(\"Looks like you haven't loaded a movie and spiketrain.\")\n",
    "            raise        \n",
    "            \n",
    "    def show_strf(self, strf):\n",
    "        images = strf.reshape((self.framesinstim,)+self.frameshape)\n",
    "        plt.figure()\n",
    "        sqrtsubplots = int(np.ceil((np.sqrt(self.framesinstim))))\n",
    "        for l in range(self.framesinstim):\n",
    "            plt.subplot(sqrtsubplots, sqrtsubplots, l+1)\n",
    "            plt.imshow(images[l], cmap='gray', interpolation='nearest')"
   ]
  },
  {
   "cell_type": "code",
   "execution_count": 4,
   "metadata": {
    "collapsed": false
   },
   "outputs": [
    {
     "name": "stdout",
     "output_type": "stream",
     "text": [
      "Can't read this line of spike file as an int. Guessing zero.\n",
      "Can't read this line of spike file as an int. Guessing zero.\n"
     ]
    }
   ],
   "source": [
    "mh = MovieHandler()"
   ]
  },
  {
   "cell_type": "code",
   "execution_count": 9,
   "metadata": {
    "collapsed": false
   },
   "outputs": [
    {
     "name": "stderr",
     "output_type": "stream",
     "text": [
      "C:\\Anaconda3\\lib\\site-packages\\matplotlib\\backend_bases.py:2435: MatplotlibDeprecationWarning: Using default event loop until function specific to this GUI is implemented\n",
      "  warnings.warn(str, mplDeprecation)\n"
     ]
    },
    {
     "ename": "KeyboardInterrupt",
     "evalue": "",
     "output_type": "error",
     "traceback": [
      "\u001b[1;31m---------------------------------------------------------------------------\u001b[0m",
      "\u001b[1;31mKeyboardInterrupt\u001b[0m                         Traceback (most recent call last)",
      "\u001b[1;32m<ipython-input-9-23022e18cb1d>\u001b[0m in \u001b[0;36m<module>\u001b[1;34m()\u001b[0m\n\u001b[1;32m----> 1\u001b[1;33m \u001b[0mmh\u001b[0m\u001b[1;33m.\u001b[0m\u001b[0mplay\u001b[0m\u001b[1;33m(\u001b[0m\u001b[1;33m)\u001b[0m\u001b[1;33m\u001b[0m\u001b[0m\n\u001b[0m",
      "\u001b[1;32m<ipython-input-7-f0234bf74966>\u001b[0m in \u001b[0;36mplay\u001b[1;34m(self, rate)\u001b[0m\n\u001b[0;32m     50\u001b[0m             \u001b[1;32melse\u001b[0m\u001b[1;33m:\u001b[0m\u001b[1;33m\u001b[0m\u001b[0m\n\u001b[0;32m     51\u001b[0m                 \u001b[0mimg\u001b[0m\u001b[1;33m.\u001b[0m\u001b[0mset_data\u001b[0m\u001b[1;33m(\u001b[0m\u001b[0mfr\u001b[0m\u001b[1;33m)\u001b[0m\u001b[1;33m\u001b[0m\u001b[0m\n\u001b[1;32m---> 52\u001b[1;33m             \u001b[0mplt\u001b[0m\u001b[1;33m.\u001b[0m\u001b[0mpause\u001b[0m\u001b[1;33m(\u001b[0m\u001b[1;36m1.\u001b[0m\u001b[1;33m/\u001b[0m\u001b[0mrate\u001b[0m\u001b[1;33m)\u001b[0m\u001b[1;33m\u001b[0m\u001b[0m\n\u001b[0m\u001b[0;32m     53\u001b[0m             \u001b[0mplt\u001b[0m\u001b[1;33m.\u001b[0m\u001b[0mdraw\u001b[0m\u001b[1;33m(\u001b[0m\u001b[1;33m)\u001b[0m\u001b[1;33m\u001b[0m\u001b[0m\n\u001b[0;32m     54\u001b[0m \u001b[1;33m\u001b[0m\u001b[0m\n",
      "\u001b[1;32mC:\\Anaconda3\\lib\\site-packages\\matplotlib\\pyplot.py\u001b[0m in \u001b[0;36mpause\u001b[1;34m(interval)\u001b[0m\n\u001b[0;32m    289\u001b[0m                 \u001b[0mcanvas\u001b[0m\u001b[1;33m.\u001b[0m\u001b[0mdraw\u001b[0m\u001b[1;33m(\u001b[0m\u001b[1;33m)\u001b[0m\u001b[1;33m\u001b[0m\u001b[0m\n\u001b[0;32m    290\u001b[0m             \u001b[0mshow\u001b[0m\u001b[1;33m(\u001b[0m\u001b[0mblock\u001b[0m\u001b[1;33m=\u001b[0m\u001b[1;32mFalse\u001b[0m\u001b[1;33m)\u001b[0m\u001b[1;33m\u001b[0m\u001b[0m\n\u001b[1;32m--> 291\u001b[1;33m             \u001b[0mcanvas\u001b[0m\u001b[1;33m.\u001b[0m\u001b[0mstart_event_loop\u001b[0m\u001b[1;33m(\u001b[0m\u001b[0minterval\u001b[0m\u001b[1;33m)\u001b[0m\u001b[1;33m\u001b[0m\u001b[0m\n\u001b[0m\u001b[0;32m    292\u001b[0m             \u001b[1;32mreturn\u001b[0m\u001b[1;33m\u001b[0m\u001b[0m\n\u001b[0;32m    293\u001b[0m \u001b[1;33m\u001b[0m\u001b[0m\n",
      "\u001b[1;32mC:\\Anaconda3\\lib\\site-packages\\matplotlib\\backends\\backend_qt5.py\u001b[0m in \u001b[0;36mstart_event_loop\u001b[1;34m(self, timeout)\u001b[0m\n\u001b[0;32m    405\u001b[0m \u001b[1;33m\u001b[0m\u001b[0m\n\u001b[0;32m    406\u001b[0m     \u001b[1;32mdef\u001b[0m \u001b[0mstart_event_loop\u001b[0m\u001b[1;33m(\u001b[0m\u001b[0mself\u001b[0m\u001b[1;33m,\u001b[0m \u001b[0mtimeout\u001b[0m\u001b[1;33m)\u001b[0m\u001b[1;33m:\u001b[0m\u001b[1;33m\u001b[0m\u001b[0m\n\u001b[1;32m--> 407\u001b[1;33m         \u001b[0mFigureCanvasBase\u001b[0m\u001b[1;33m.\u001b[0m\u001b[0mstart_event_loop_default\u001b[0m\u001b[1;33m(\u001b[0m\u001b[0mself\u001b[0m\u001b[1;33m,\u001b[0m \u001b[0mtimeout\u001b[0m\u001b[1;33m)\u001b[0m\u001b[1;33m\u001b[0m\u001b[0m\n\u001b[0m\u001b[0;32m    408\u001b[0m \u001b[1;33m\u001b[0m\u001b[0m\n\u001b[0;32m    409\u001b[0m     \u001b[0mstart_event_loop\u001b[0m\u001b[1;33m.\u001b[0m\u001b[0m__doc__\u001b[0m \u001b[1;33m=\u001b[0m\u001b[0;31m \u001b[0m\u001b[0;31m\\\u001b[0m\u001b[1;33m\u001b[0m\u001b[0m\n",
      "\u001b[1;32mC:\\Anaconda3\\lib\\site-packages\\matplotlib\\backend_bases.py\u001b[0m in \u001b[0;36mstart_event_loop_default\u001b[1;34m(self, timeout)\u001b[0m\n\u001b[0;32m   2442\u001b[0m         \u001b[1;32mwhile\u001b[0m \u001b[0mself\u001b[0m\u001b[1;33m.\u001b[0m\u001b[0m_looping\u001b[0m \u001b[1;32mand\u001b[0m \u001b[0mcounter\u001b[0m \u001b[1;33m*\u001b[0m \u001b[0mtimestep\u001b[0m \u001b[1;33m<\u001b[0m \u001b[0mtimeout\u001b[0m\u001b[1;33m:\u001b[0m\u001b[1;33m\u001b[0m\u001b[0m\n\u001b[0;32m   2443\u001b[0m             \u001b[0mself\u001b[0m\u001b[1;33m.\u001b[0m\u001b[0mflush_events\u001b[0m\u001b[1;33m(\u001b[0m\u001b[1;33m)\u001b[0m\u001b[1;33m\u001b[0m\u001b[0m\n\u001b[1;32m-> 2444\u001b[1;33m             \u001b[0mtime\u001b[0m\u001b[1;33m.\u001b[0m\u001b[0msleep\u001b[0m\u001b[1;33m(\u001b[0m\u001b[0mtimestep\u001b[0m\u001b[1;33m)\u001b[0m\u001b[1;33m\u001b[0m\u001b[0m\n\u001b[0m\u001b[0;32m   2445\u001b[0m             \u001b[0mcounter\u001b[0m \u001b[1;33m+=\u001b[0m \u001b[1;36m1\u001b[0m\u001b[1;33m\u001b[0m\u001b[0m\n\u001b[0;32m   2446\u001b[0m \u001b[1;33m\u001b[0m\u001b[0m\n",
      "\u001b[1;31mKeyboardInterrupt\u001b[0m: "
     ]
    }
   ],
   "source": [
    "mh.play()"
   ]
  },
  {
   "cell_type": "code",
   "execution_count": 2,
   "metadata": {
    "collapsed": false
   },
   "outputs": [],
   "source": [
    "import mid"
   ]
  },
  {
   "cell_type": "code",
   "execution_count": 6,
   "metadata": {
    "collapsed": false
   },
   "outputs": [
    {
     "data": {
      "text/plain": [
       "<module 'mid' from 'C:\\\\Users\\\\Eric\\\\Documents\\\\Berkeley\\\\Research\\\\Neuroscience\\\\DeWeese_Lab_analysis\\\\mymid\\\\MID\\\\mid.py'>"
      ]
     },
     "execution_count": 6,
     "metadata": {},
     "output_type": "execute_result"
    }
   ],
   "source": [
    "from imp import reload\n",
    "reload(mid)"
   ]
  },
  {
   "cell_type": "code",
   "execution_count": 17,
   "metadata": {
    "collapsed": false
   },
   "outputs": [
    {
     "name": "stdout",
     "output_type": "stream",
     "text": [
      "Specialized initialization failed. Falling back on first stimulus.\n"
     ]
    }
   ],
   "source": [
    "anmid = mid.MID(handler=mh)"
   ]
  },
  {
   "cell_type": "code",
   "execution_count": 32,
   "metadata": {
    "collapsed": false,
    "scrolled": true
   },
   "outputs": [
    {
     "name": "stdout",
     "output_type": "stream",
     "text": [
      "Info             Gradient norm\n",
      "6.29796753817  49.2472012837\n",
      "6.29602547015  54.5693184343\n",
      "6.30136756178  54.1883710599\n",
      "6.15484551964  52.7625721114\n",
      "6.28433794304  52.1701640169\n",
      "6.2131708798  56.2730121708\n",
      "6.44393451744  57.0474015551\n",
      "6.53122028355  54.0266754943\n",
      "6.56396851843  55.2025619172\n",
      "6.51116583113  57.3832552332\n",
      "6.64313095141  62.243007047\n",
      "6.52804476776  65.7623152277\n",
      "6.44441186503  68.9724390292\n",
      "6.32231645892  83.8516143229\n",
      "6.44138862632  87.5525569695\n",
      "6.57776574183  93.9621815914\n",
      "6.59589516686  87.681865799\n",
      "6.41250856936  90.4683783321\n",
      "6.17258411374  90.1039136306\n",
      "6.14369673911  84.4709158069\n",
      "6.04600823562  83.8700101082\n",
      "6.00539060071  88.6164152303\n",
      "6.05858553451  91.9169007707\n",
      "5.9021596331  99.2082326843\n",
      "5.76954247811  101.493212676\n",
      "5.71886226309  101.255310947\n",
      "5.61575942302  101.579679169\n",
      "5.70739448388  117.551340176\n",
      "5.8117580823  116.837775818\n",
      "5.82789340196  114.097153893\n",
      "5.55913212278  122.926313937\n",
      "5.53578265437  119.24551039\n",
      "5.47106958194  122.322425998\n",
      "5.62429443217  137.149684665\n",
      "5.64403501667  140.86418119\n",
      "5.49647504954  136.187310136\n",
      "5.21581299287  129.543569466\n",
      "5.19269782589  132.196501792\n",
      "5.42720725199  138.134732829\n",
      "5.47409028301  140.685034823\n",
      "5.78763695269  149.433011645\n",
      "6.15730242246  163.915025445\n",
      "6.05087985249  166.219180633\n",
      "6.04466745094  165.592073325\n",
      "5.83335713306  153.461742216\n",
      "6.15338255591  164.456018664\n",
      "6.29591237437  160.659483746\n",
      "6.32729142271  169.723558637\n",
      "6.32095455893  165.452176268\n",
      "6.18728603147  154.6767437\n",
      "6.22937987715  149.091148442\n",
      "6.30079664337  150.258268013\n",
      "6.60491605646  156.101403489\n",
      "6.32176621838  145.430092708\n",
      "6.65281859048  145.691480834\n",
      "6.60254974169  146.329405182\n",
      "6.249608578  133.636208172\n",
      "6.17478225364  129.815103364\n",
      "5.95528919245  122.096886406\n",
      "5.49236573075  122.699453042\n",
      "5.5490773893  132.533271537\n",
      "5.26824979556  128.63968169\n",
      "5.22015731652  127.405549007\n",
      "5.36133557317  128.584120243\n",
      "5.17741799312  130.288580247\n",
      "4.99129208301  128.151759687\n",
      "4.77579064224  119.664853447\n",
      "4.71425119367  122.609395322\n",
      "4.55264600845  114.489744772\n",
      "4.43696157386  111.9273673\n",
      "4.42688656729  113.628655036\n",
      "4.52147141055  112.339042008\n",
      "4.84210336332  122.998468142\n",
      "4.77522053773  123.282705176\n",
      "4.84275373601  120.984761314\n",
      "4.90359416662  116.545179265\n",
      "4.73412633087  113.778329009\n",
      "4.87694896219  119.815748708\n",
      "5.06340474183  123.947112792\n",
      "5.01997568565  120.645386819\n",
      "4.88517524666  115.804236625\n",
      "4.70957086503  116.225490248\n",
      "4.73498985601  115.966841027\n",
      "4.60005836572  107.312827832\n",
      "4.51731761287  102.399502821\n",
      "4.42051422391  101.983919169\n",
      "4.60043358215  109.293224624\n",
      "4.51530910953  106.556367581\n",
      "4.39240437818  102.450929377\n",
      "4.15926474685  97.6405621651\n",
      "4.08672494373  95.2762230562\n",
      "4.19537501325  92.5125886075\n",
      "4.23397360536  97.4775764787\n",
      "4.37383631115  97.9589574144\n",
      "4.71313880658  101.965167294\n",
      "4.69614545535  97.8298109488\n",
      "4.80013255753  93.9968340441\n",
      "4.76104859069  91.8338055077\n",
      "4.84241106164  97.8818340785\n",
      "4.87410192717  96.6175918655\n",
      "Did not converge to desired precision.\n"
     ]
    }
   ],
   "source": [
    "res = anmid.optimize('GA', rate=1e-5)"
   ]
  },
  {
   "cell_type": "code",
   "execution_count": 33,
   "metadata": {
    "collapsed": true
   },
   "outputs": [],
   "source": [
    "mh.show_strf(anmid.v)"
   ]
  },
  {
   "cell_type": "code",
   "execution_count": 34,
   "metadata": {
    "collapsed": false
   },
   "outputs": [],
   "source": [
    "plt.show()"
   ]
  },
  {
   "cell_type": "code",
   "execution_count": 3,
   "metadata": {
    "collapsed": false
   },
   "outputs": [],
   "source": [
    "class TestHandler:\n",
    "    def __init__(self, datasize=5, ndata=5e5):\n",
    "        self.nstim = int(ndata)\n",
    "        self.data = np.random.randn(self.nstim,5)\n",
    "        self.data = self.data/np.sqrt(np.sum(self.data**2,1))[:,np.newaxis]\n",
    "        self.truerf = np.zeros((datasize))\n",
    "        self.truerf[0] = 1\n",
    "        self.generate_spiketrain()\n",
    "        \n",
    "    def get_nstim(self):\n",
    "        return self.nstim\n",
    "        \n",
    "    def generate_spiketrain(self):\n",
    "        ndata = self.nstim\n",
    "        self.spiketrain = np.zeros((ndata))\n",
    "        for point in range(ndata):\n",
    "            rate = self.truerf.dot(self.data[point])\n",
    "            rate = rate if rate>0 else 0\n",
    "            self.spiketrain[point] = np.random.binomial(1,rate)\n",
    "                           \n",
    "    def generator(self):\n",
    "        for stim, spike in zip(self.data, self.spiketrain):\n",
    "            yield stim, spike"
   ]
  },
  {
   "cell_type": "code",
   "execution_count": 7,
   "metadata": {
    "collapsed": false
   },
   "outputs": [
    {
     "name": "stdout",
     "output_type": "stream",
     "text": [
      "Specialized initialization failed. Falling back on first stimulus.\n"
     ]
    }
   ],
   "source": [
    "th = TestHandler()\n",
    "testmid = mid.MID(handler=th)"
   ]
  },
  {
   "cell_type": "code",
   "execution_count": 8,
   "metadata": {
    "collapsed": false
   },
   "outputs": [
    {
     "name": "stdout",
     "output_type": "stream",
     "text": [
      "Info             Gradient norm\n",
      "0.0262158525052  0.075021377821\n",
      "0.0348552352705  0.0843656474574\n",
      "0.0456328457917  0.0930779389928\n",
      "0.058543068011  0.0997596811584\n",
      "0.0734317680605  0.105249306356\n",
      "0.089549129927  0.107393027398\n",
      "0.106195051174  0.106533027729\n",
      "0.122044300546  0.101529354371\n",
      "0.13631980471  0.0932313046567\n",
      "0.148114028495  0.0825901828937\n",
      "0.157017966332  0.0697413778441\n",
      "0.163327220867  0.0566235520062\n",
      "0.167179013147  0.0420918621996\n",
      "0.169218739285  0.0315228162503\n",
      "0.170274655535  0.0228816838304\n",
      "0.170747661462  0.0163697055961\n",
      "0.17092935309  0.00292138914712\n",
      "0.170942367446  0.00280132392314\n",
      "0.170954693249  0.00273419746759\n",
      "0.171001358095  0.00265943627015\n",
      "0.171001358095  0.00265943627015\n",
      "Did not converge to desired precision.\n"
     ]
    }
   ],
   "source": [
    "testresults = testmid.optimize('GA',rate=1,maxiter=20)"
   ]
  },
  {
   "cell_type": "code",
   "execution_count": 9,
   "metadata": {
    "collapsed": false
   },
   "outputs": [
    {
     "data": {
      "text/plain": [
       "array([ -1.08521085e+00,  -2.67973167e-03,  -4.25508411e-05,\n",
       "         2.53200956e-03,  -1.58737442e-03])"
      ]
     },
     "execution_count": 9,
     "metadata": {},
     "output_type": "execute_result"
    }
   ],
   "source": [
    "testmid.v"
   ]
  },
  {
   "cell_type": "code",
   "execution_count": 18,
   "metadata": {
    "collapsed": false
   },
   "outputs": [
    {
     "data": {
      "text/plain": [
       "array([ 1.,  0.,  0.,  0.,  0.])"
      ]
     },
     "execution_count": 18,
     "metadata": {},
     "output_type": "execute_result"
    }
   ],
   "source": [
    "th.truerf"
   ]
  },
  {
   "cell_type": "code",
   "execution_count": 10,
   "metadata": {
    "collapsed": false
   },
   "outputs": [],
   "source": [
    "info, grad = testmid.info_grad(testmid.v,neg=False)"
   ]
  },
  {
   "cell_type": "code",
   "execution_count": 11,
   "metadata": {
    "collapsed": false
   },
   "outputs": [
    {
     "data": {
      "text/plain": [
       "array([ -3.19422677e-03,   4.53008849e-04,  -8.95012687e-05,\n",
       "         5.58564394e-05,  -5.67877378e-05])"
      ]
     },
     "execution_count": 11,
     "metadata": {},
     "output_type": "execute_result"
    }
   ],
   "source": [
    "grad"
   ]
  },
  {
   "cell_type": "code",
   "execution_count": 12,
   "metadata": {
    "collapsed": false
   },
   "outputs": [
    {
     "data": {
      "text/plain": [
       "0.0034654309789836557"
      ]
     },
     "execution_count": 12,
     "metadata": {},
     "output_type": "execute_result"
    }
   ],
   "source": [
    "grad.dot(testmid.v)"
   ]
  },
  {
   "cell_type": "code",
   "execution_count": 15,
   "metadata": {
    "collapsed": false
   },
   "outputs": [
    {
     "name": "stdout",
     "output_type": "stream",
     "text": [
      "[ 0.14781714 -0.06893542 -0.06967218 -0.06996106 -0.06930162]\n",
      "[ 0.20287896 -0.09543404 -0.10106793 -0.09942686 -0.11212613]\n"
     ]
    }
   ],
   "source": [
    "v = np.array([.4,.2,.2,.2,.2])\n",
    "grad = np.zeros(5)\n",
    "epsilon = .01\n",
    "info, supposedgrad = testmid.info_grad(v, neg=False)\n",
    "for direc in range(5):\n",
    "    delta = np.zeros(5)\n",
    "    delta[direc] = epsilon\n",
    "    newinfo, _ =  testmid.info_grad(v+delta, neg=False)\n",
    "    grad[direc] = (newinfo-info)/epsilon\n",
    "print(supposedgrad)\n",
    "print(grad)"
   ]
  },
  {
   "cell_type": "code",
   "execution_count": 17,
   "metadata": {
    "collapsed": false
   },
   "outputs": [],
   "source": [
    "info, pv, pvt = testmid.info_and_dists()\n",
    "abscissa = np.arange(15)\n",
    "plt.plot(abscissa, pv, 'b.', abscissa, pvt, 'r.', abscissa, pvt/pv, 'g.')\n",
    "plt.show()"
   ]
  },
  {
   "cell_type": "code",
   "execution_count": 22,
   "metadata": {
    "collapsed": false
   },
   "outputs": [
    {
     "data": {
      "text/plain": [
       "2.4119016054862952"
      ]
     },
     "execution_count": 22,
     "metadata": {},
     "output_type": "execute_result"
    }
   ],
   "source": [
    "np.log2(th.get_nstim()/th.spiketrain.sum())"
   ]
  },
  {
   "cell_type": "code",
   "execution_count": 25,
   "metadata": {
    "collapsed": false
   },
   "outputs": [
    {
     "name": "stdout",
     "output_type": "stream",
     "text": [
      "0.169973562515\n"
     ]
    }
   ],
   "source": [
    "alltheinfo = testmid.info(th.truerf, neg=False)\n",
    "print(alltheinfo)"
   ]
  },
  {
   "cell_type": "code",
   "execution_count": 27,
   "metadata": {
    "collapsed": false
   },
   "outputs": [
    {
     "name": "stdout",
     "output_type": "stream",
     "text": [
      "3.83883347406\n"
     ]
    }
   ],
   "source": [
    "expbias = (th.get_nstim()/th.spiketrain.sum())/(2*np.log(2))\n",
    "print(expbias)"
   ]
  },
  {
   "cell_type": "code",
   "execution_count": null,
   "metadata": {
    "collapsed": true
   },
   "outputs": [],
   "source": []
  }
 ],
 "metadata": {
  "kernelspec": {
   "display_name": "Python 3",
   "language": "python",
   "name": "python3"
  },
  "language_info": {
   "codemirror_mode": {
    "name": "ipython",
    "version": 3
   },
   "file_extension": ".py",
   "mimetype": "text/x-python",
   "name": "python",
   "nbconvert_exporter": "python",
   "pygments_lexer": "ipython3",
   "version": "3.5.1"
  }
 },
 "nbformat": 4,
 "nbformat_minor": 0
}
